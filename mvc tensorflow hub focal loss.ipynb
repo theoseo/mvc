{
 "cells": [
  {
   "cell_type": "code",
   "execution_count": 1,
   "metadata": {},
   "outputs": [
    {
     "name": "stderr",
     "output_type": "stream",
     "text": [
      "Using TensorFlow backend.\n"
     ]
    }
   ],
   "source": [
    "import numpy as np\n",
    "import tensorflow as tf\n",
    "import pandas as pd\n",
    "import glob\n",
    "import random\n",
    "from sklearn import model_selection\n",
    "\n",
    "from keras.applications.nasnet import NASNetLarge\n",
    "from keras.applications.inception_v3 import InceptionV3\n",
    "from keras.preprocessing import image\n",
    "from keras.models import Model, Sequential\n",
    "from keras.layers import Dense, GlobalAveragePooling2D, Dropout, Activation, BatchNormalization\n",
    "from keras import backend as K\n",
    "from keras.callbacks import ModelCheckpoint, TensorBoard\n",
    "from keras.optimizers import Adam\n",
    "from matplotlib import pyplot as plt\n",
    "from itertools import chain, repeat, cycle\n",
    "import keras\n",
    "from sklearn.metrics import f1_score\n",
    "#import cv2\n",
    "#from tqdm import tqdm\n",
    "from keras.utils import to_categorical\n",
    "\n",
    "import os\n",
    "import shutil\n",
    "%matplotlib inline"
   ]
  },
  {
   "cell_type": "code",
   "execution_count": 2,
   "metadata": {},
   "outputs": [],
   "source": [
    "DATA_DIR = \"./hub_dataset\"\n",
    "BOTTLE_DIR = \"./bottleneck\"\n",
    "TRAIN_DIR = DATA_DIR + \"/train\"\n",
    "VAL_DIR = DATA_DIR + \"/validation\"\n",
    "file_tail = \"_https~tfhub.dev~google~imagenet~pnasnet_large~feature_vector~1.txt\""
   ]
  },
  {
   "cell_type": "code",
   "execution_count": 3,
   "metadata": {},
   "outputs": [
    {
     "name": "stdout",
     "output_type": "stream",
     "text": [
      "directories already exist\n",
      "Train: 145134\n",
      "Validation: 16126\n"
     ]
    }
   ],
   "source": [
    "NUM_TRAIN_EXAMPLES = 0\n",
    "NUM_VAL_EXAMPLES = 0\n",
    "\n",
    "if not os.path.exists(TRAIN_DIR) or  not os.path.exists(VAL_DIR):\n",
    "    data = glob.glob(BOTTLE_DIR + \"/*/*.txt\")\n",
    "    print(\"creating data directories for training and validation\")\n",
    "    train, val = model_selection.train_test_split(data, test_size=0.1)\n",
    "    os.makedirs(TRAIN_DIR)\n",
    "    os.makedirs(VAL_DIR)\n",
    "\n",
    "    for e in train:\n",
    "        shutil.copy(e, TRAIN_DIR + \"/\" + e.split(\"/\")[-1] )\n",
    "    for e in val:\n",
    "        shutil.copy(e, VAL_DIR + \"/\" + e.split(\"/\")[-1] )\n",
    "else:\n",
    "    print(\"directories already exist\")\n",
    "    NUM_TRAIN_EXAMPLES = len(glob.glob(TRAIN_DIR+\"/*.txt\"))\n",
    "    print(\"Train:\", NUM_TRAIN_EXAMPLES )\n",
    "    NUM_VAL_EXAMPLES = len(glob.glob(VAL_DIR+\"/*.txt\"))\n",
    "    print(\"Validation:\",NUM_VAL_EXAMPLES )"
   ]
  },
  {
   "cell_type": "code",
   "execution_count": 12,
   "metadata": {},
   "outputs": [],
   "source": [
    "def features_from_bottles(bottles):\n",
    "    X = []\n",
    "    y = []\n",
    "    for bottle in tqdm(bottles):\n",
    "        label = bottle.split(\"/\")[-1].replace(file_tail, \"\")\n",
    "        line = open(bottle).readlines()\n",
    "        X.append( np.loadtxt(line[0].split(','), dtype=np.float32) )\n",
    "        y.append(label)\n",
    "        \n",
    "    X = np.array(X)\n",
    "    return (X, y)"
   ]
  },
  {
   "cell_type": "code",
   "execution_count": 13,
   "metadata": {},
   "outputs": [
    {
     "name": "stderr",
     "output_type": "stream",
     "text": [
      "100%|██████████| 16126/16126 [06:40<00:00, 40.29it/s]\n",
      "100%|██████████| 145134/145134 [1:01:41<00:00, 39.20it/s]\n"
     ]
    }
   ],
   "source": [
    "bottles = glob.glob(VAL_DIR + \"/*.txt\")\n",
    "x_val, y_val = features_from_bottles(bottles)\n",
    "\n",
    "\n",
    "bottles = glob.glob(TRAIN_DIR + \"/*.txt\")\n",
    "x_train, y_train = features_from_bottles(bottles)\n"
   ]
  },
  {
   "cell_type": "code",
   "execution_count": 14,
   "metadata": {},
   "outputs": [
    {
     "data": {
      "text/html": [
       "<div>\n",
       "<style scoped>\n",
       "    .dataframe tbody tr th:only-of-type {\n",
       "        vertical-align: middle;\n",
       "    }\n",
       "\n",
       "    .dataframe tbody tr th {\n",
       "        vertical-align: top;\n",
       "    }\n",
       "\n",
       "    .dataframe thead th {\n",
       "        text-align: right;\n",
       "    }\n",
       "</style>\n",
       "<table border=\"1\" class=\"dataframe\">\n",
       "  <thead>\n",
       "    <tr style=\"text-align: right;\">\n",
       "      <th></th>\n",
       "      <th>AlineDresses</th>\n",
       "      <th>AnimalPrint</th>\n",
       "      <th>Anoraks</th>\n",
       "      <th>Argyle</th>\n",
       "      <th>Asymmetrical</th>\n",
       "      <th>Athletic</th>\n",
       "      <th>BabyDollDresses</th>\n",
       "      <th>BalconetteBras</th>\n",
       "      <th>Bandeau</th>\n",
       "      <th>BandeauBras</th>\n",
       "      <th>...</th>\n",
       "      <th>Yellow</th>\n",
       "      <th>ZebraPrint</th>\n",
       "      <th>Zipper</th>\n",
       "      <th>fiftyU</th>\n",
       "      <th>halfZip</th>\n",
       "      <th>hundred1U</th>\n",
       "      <th>hundred2O</th>\n",
       "      <th>hundred2U</th>\n",
       "      <th>quarter3Zip</th>\n",
       "      <th>quarterZip</th>\n",
       "    </tr>\n",
       "    <tr>\n",
       "      <th>filename</th>\n",
       "      <th></th>\n",
       "      <th></th>\n",
       "      <th></th>\n",
       "      <th></th>\n",
       "      <th></th>\n",
       "      <th></th>\n",
       "      <th></th>\n",
       "      <th></th>\n",
       "      <th></th>\n",
       "      <th></th>\n",
       "      <th></th>\n",
       "      <th></th>\n",
       "      <th></th>\n",
       "      <th></th>\n",
       "      <th></th>\n",
       "      <th></th>\n",
       "      <th></th>\n",
       "      <th></th>\n",
       "      <th></th>\n",
       "      <th></th>\n",
       "      <th></th>\n",
       "    </tr>\n",
       "  </thead>\n",
       "  <tbody>\n",
       "    <tr>\n",
       "      <th>p7258521_s3163710_v0.jpg</th>\n",
       "      <td>0</td>\n",
       "      <td>0</td>\n",
       "      <td>0</td>\n",
       "      <td>0</td>\n",
       "      <td>0</td>\n",
       "      <td>0</td>\n",
       "      <td>0</td>\n",
       "      <td>0</td>\n",
       "      <td>0</td>\n",
       "      <td>0</td>\n",
       "      <td>...</td>\n",
       "      <td>0</td>\n",
       "      <td>0</td>\n",
       "      <td>0</td>\n",
       "      <td>0</td>\n",
       "      <td>0</td>\n",
       "      <td>0</td>\n",
       "      <td>0</td>\n",
       "      <td>1</td>\n",
       "      <td>0</td>\n",
       "      <td>0</td>\n",
       "    </tr>\n",
       "    <tr>\n",
       "      <th>p7258521_s3163710_v1.jpg</th>\n",
       "      <td>0</td>\n",
       "      <td>0</td>\n",
       "      <td>0</td>\n",
       "      <td>0</td>\n",
       "      <td>0</td>\n",
       "      <td>0</td>\n",
       "      <td>0</td>\n",
       "      <td>0</td>\n",
       "      <td>0</td>\n",
       "      <td>0</td>\n",
       "      <td>...</td>\n",
       "      <td>0</td>\n",
       "      <td>0</td>\n",
       "      <td>0</td>\n",
       "      <td>0</td>\n",
       "      <td>0</td>\n",
       "      <td>0</td>\n",
       "      <td>0</td>\n",
       "      <td>1</td>\n",
       "      <td>0</td>\n",
       "      <td>0</td>\n",
       "    </tr>\n",
       "    <tr>\n",
       "      <th>p7258521_s3163710_v2.jpg</th>\n",
       "      <td>0</td>\n",
       "      <td>0</td>\n",
       "      <td>0</td>\n",
       "      <td>0</td>\n",
       "      <td>0</td>\n",
       "      <td>0</td>\n",
       "      <td>0</td>\n",
       "      <td>0</td>\n",
       "      <td>0</td>\n",
       "      <td>0</td>\n",
       "      <td>...</td>\n",
       "      <td>0</td>\n",
       "      <td>0</td>\n",
       "      <td>0</td>\n",
       "      <td>0</td>\n",
       "      <td>0</td>\n",
       "      <td>0</td>\n",
       "      <td>0</td>\n",
       "      <td>1</td>\n",
       "      <td>0</td>\n",
       "      <td>0</td>\n",
       "    </tr>\n",
       "    <tr>\n",
       "      <th>p7258521_s3163710_v3.jpg</th>\n",
       "      <td>0</td>\n",
       "      <td>0</td>\n",
       "      <td>0</td>\n",
       "      <td>0</td>\n",
       "      <td>0</td>\n",
       "      <td>0</td>\n",
       "      <td>0</td>\n",
       "      <td>0</td>\n",
       "      <td>0</td>\n",
       "      <td>0</td>\n",
       "      <td>...</td>\n",
       "      <td>0</td>\n",
       "      <td>0</td>\n",
       "      <td>0</td>\n",
       "      <td>0</td>\n",
       "      <td>0</td>\n",
       "      <td>0</td>\n",
       "      <td>0</td>\n",
       "      <td>1</td>\n",
       "      <td>0</td>\n",
       "      <td>0</td>\n",
       "    </tr>\n",
       "    <tr>\n",
       "      <th>p7258521_s3163710_v4.jpg</th>\n",
       "      <td>0</td>\n",
       "      <td>0</td>\n",
       "      <td>0</td>\n",
       "      <td>0</td>\n",
       "      <td>0</td>\n",
       "      <td>0</td>\n",
       "      <td>0</td>\n",
       "      <td>0</td>\n",
       "      <td>0</td>\n",
       "      <td>0</td>\n",
       "      <td>...</td>\n",
       "      <td>0</td>\n",
       "      <td>0</td>\n",
       "      <td>0</td>\n",
       "      <td>0</td>\n",
       "      <td>0</td>\n",
       "      <td>0</td>\n",
       "      <td>0</td>\n",
       "      <td>1</td>\n",
       "      <td>0</td>\n",
       "      <td>0</td>\n",
       "    </tr>\n",
       "    <tr>\n",
       "      <th>p7258521_s3163713_v0.jpg</th>\n",
       "      <td>0</td>\n",
       "      <td>0</td>\n",
       "      <td>0</td>\n",
       "      <td>0</td>\n",
       "      <td>0</td>\n",
       "      <td>0</td>\n",
       "      <td>0</td>\n",
       "      <td>0</td>\n",
       "      <td>0</td>\n",
       "      <td>0</td>\n",
       "      <td>...</td>\n",
       "      <td>0</td>\n",
       "      <td>0</td>\n",
       "      <td>0</td>\n",
       "      <td>0</td>\n",
       "      <td>0</td>\n",
       "      <td>0</td>\n",
       "      <td>0</td>\n",
       "      <td>1</td>\n",
       "      <td>0</td>\n",
       "      <td>0</td>\n",
       "    </tr>\n",
       "    <tr>\n",
       "      <th>p7258521_s3163713_v1.jpg</th>\n",
       "      <td>0</td>\n",
       "      <td>0</td>\n",
       "      <td>0</td>\n",
       "      <td>0</td>\n",
       "      <td>0</td>\n",
       "      <td>0</td>\n",
       "      <td>0</td>\n",
       "      <td>0</td>\n",
       "      <td>0</td>\n",
       "      <td>0</td>\n",
       "      <td>...</td>\n",
       "      <td>0</td>\n",
       "      <td>0</td>\n",
       "      <td>0</td>\n",
       "      <td>0</td>\n",
       "      <td>0</td>\n",
       "      <td>0</td>\n",
       "      <td>0</td>\n",
       "      <td>1</td>\n",
       "      <td>0</td>\n",
       "      <td>0</td>\n",
       "    </tr>\n",
       "    <tr>\n",
       "      <th>p7258521_s3163713_v2.jpg</th>\n",
       "      <td>0</td>\n",
       "      <td>0</td>\n",
       "      <td>0</td>\n",
       "      <td>0</td>\n",
       "      <td>0</td>\n",
       "      <td>0</td>\n",
       "      <td>0</td>\n",
       "      <td>0</td>\n",
       "      <td>0</td>\n",
       "      <td>0</td>\n",
       "      <td>...</td>\n",
       "      <td>0</td>\n",
       "      <td>0</td>\n",
       "      <td>0</td>\n",
       "      <td>0</td>\n",
       "      <td>0</td>\n",
       "      <td>0</td>\n",
       "      <td>0</td>\n",
       "      <td>1</td>\n",
       "      <td>0</td>\n",
       "      <td>0</td>\n",
       "    </tr>\n",
       "    <tr>\n",
       "      <th>p7258521_s3163713_v3.jpg</th>\n",
       "      <td>0</td>\n",
       "      <td>0</td>\n",
       "      <td>0</td>\n",
       "      <td>0</td>\n",
       "      <td>0</td>\n",
       "      <td>0</td>\n",
       "      <td>0</td>\n",
       "      <td>0</td>\n",
       "      <td>0</td>\n",
       "      <td>0</td>\n",
       "      <td>...</td>\n",
       "      <td>0</td>\n",
       "      <td>0</td>\n",
       "      <td>0</td>\n",
       "      <td>0</td>\n",
       "      <td>0</td>\n",
       "      <td>0</td>\n",
       "      <td>0</td>\n",
       "      <td>1</td>\n",
       "      <td>0</td>\n",
       "      <td>0</td>\n",
       "    </tr>\n",
       "    <tr>\n",
       "      <th>p7258521_s3163713_v4.jpg</th>\n",
       "      <td>0</td>\n",
       "      <td>0</td>\n",
       "      <td>0</td>\n",
       "      <td>0</td>\n",
       "      <td>0</td>\n",
       "      <td>0</td>\n",
       "      <td>0</td>\n",
       "      <td>0</td>\n",
       "      <td>0</td>\n",
       "      <td>0</td>\n",
       "      <td>...</td>\n",
       "      <td>0</td>\n",
       "      <td>0</td>\n",
       "      <td>0</td>\n",
       "      <td>0</td>\n",
       "      <td>0</td>\n",
       "      <td>0</td>\n",
       "      <td>0</td>\n",
       "      <td>1</td>\n",
       "      <td>0</td>\n",
       "      <td>0</td>\n",
       "    </tr>\n",
       "  </tbody>\n",
       "</table>\n",
       "<p>10 rows × 264 columns</p>\n",
       "</div>"
      ],
      "text/plain": [
       "                          AlineDresses  AnimalPrint  Anoraks  Argyle  \\\n",
       "filename                                                               \n",
       "p7258521_s3163710_v0.jpg             0            0        0       0   \n",
       "p7258521_s3163710_v1.jpg             0            0        0       0   \n",
       "p7258521_s3163710_v2.jpg             0            0        0       0   \n",
       "p7258521_s3163710_v3.jpg             0            0        0       0   \n",
       "p7258521_s3163710_v4.jpg             0            0        0       0   \n",
       "p7258521_s3163713_v0.jpg             0            0        0       0   \n",
       "p7258521_s3163713_v1.jpg             0            0        0       0   \n",
       "p7258521_s3163713_v2.jpg             0            0        0       0   \n",
       "p7258521_s3163713_v3.jpg             0            0        0       0   \n",
       "p7258521_s3163713_v4.jpg             0            0        0       0   \n",
       "\n",
       "                          Asymmetrical  Athletic  BabyDollDresses  \\\n",
       "filename                                                            \n",
       "p7258521_s3163710_v0.jpg             0         0                0   \n",
       "p7258521_s3163710_v1.jpg             0         0                0   \n",
       "p7258521_s3163710_v2.jpg             0         0                0   \n",
       "p7258521_s3163710_v3.jpg             0         0                0   \n",
       "p7258521_s3163710_v4.jpg             0         0                0   \n",
       "p7258521_s3163713_v0.jpg             0         0                0   \n",
       "p7258521_s3163713_v1.jpg             0         0                0   \n",
       "p7258521_s3163713_v2.jpg             0         0                0   \n",
       "p7258521_s3163713_v3.jpg             0         0                0   \n",
       "p7258521_s3163713_v4.jpg             0         0                0   \n",
       "\n",
       "                          BalconetteBras  Bandeau  BandeauBras     ...      \\\n",
       "filename                                                           ...       \n",
       "p7258521_s3163710_v0.jpg               0        0            0     ...       \n",
       "p7258521_s3163710_v1.jpg               0        0            0     ...       \n",
       "p7258521_s3163710_v2.jpg               0        0            0     ...       \n",
       "p7258521_s3163710_v3.jpg               0        0            0     ...       \n",
       "p7258521_s3163710_v4.jpg               0        0            0     ...       \n",
       "p7258521_s3163713_v0.jpg               0        0            0     ...       \n",
       "p7258521_s3163713_v1.jpg               0        0            0     ...       \n",
       "p7258521_s3163713_v2.jpg               0        0            0     ...       \n",
       "p7258521_s3163713_v3.jpg               0        0            0     ...       \n",
       "p7258521_s3163713_v4.jpg               0        0            0     ...       \n",
       "\n",
       "                          Yellow  ZebraPrint  Zipper  fiftyU  halfZip  \\\n",
       "filename                                                                \n",
       "p7258521_s3163710_v0.jpg       0           0       0       0        0   \n",
       "p7258521_s3163710_v1.jpg       0           0       0       0        0   \n",
       "p7258521_s3163710_v2.jpg       0           0       0       0        0   \n",
       "p7258521_s3163710_v3.jpg       0           0       0       0        0   \n",
       "p7258521_s3163710_v4.jpg       0           0       0       0        0   \n",
       "p7258521_s3163713_v0.jpg       0           0       0       0        0   \n",
       "p7258521_s3163713_v1.jpg       0           0       0       0        0   \n",
       "p7258521_s3163713_v2.jpg       0           0       0       0        0   \n",
       "p7258521_s3163713_v3.jpg       0           0       0       0        0   \n",
       "p7258521_s3163713_v4.jpg       0           0       0       0        0   \n",
       "\n",
       "                          hundred1U  hundred2O  hundred2U  quarter3Zip  \\\n",
       "filename                                                                 \n",
       "p7258521_s3163710_v0.jpg          0          0          1            0   \n",
       "p7258521_s3163710_v1.jpg          0          0          1            0   \n",
       "p7258521_s3163710_v2.jpg          0          0          1            0   \n",
       "p7258521_s3163710_v3.jpg          0          0          1            0   \n",
       "p7258521_s3163710_v4.jpg          0          0          1            0   \n",
       "p7258521_s3163713_v0.jpg          0          0          1            0   \n",
       "p7258521_s3163713_v1.jpg          0          0          1            0   \n",
       "p7258521_s3163713_v2.jpg          0          0          1            0   \n",
       "p7258521_s3163713_v3.jpg          0          0          1            0   \n",
       "p7258521_s3163713_v4.jpg          0          0          1            0   \n",
       "\n",
       "                          quarterZip  \n",
       "filename                              \n",
       "p7258521_s3163710_v0.jpg           0  \n",
       "p7258521_s3163710_v1.jpg           0  \n",
       "p7258521_s3163710_v2.jpg           0  \n",
       "p7258521_s3163710_v3.jpg           0  \n",
       "p7258521_s3163710_v4.jpg           0  \n",
       "p7258521_s3163713_v0.jpg           0  \n",
       "p7258521_s3163713_v1.jpg           0  \n",
       "p7258521_s3163713_v2.jpg           0  \n",
       "p7258521_s3163713_v3.jpg           0  \n",
       "p7258521_s3163713_v4.jpg           0  \n",
       "\n",
       "[10 rows x 264 columns]"
      ]
     },
     "execution_count": 14,
     "metadata": {},
     "output_type": "execute_result"
    }
   ],
   "source": [
    "mvc_label = pd.read_csv( './mvc_label.csv', index_col='filename')\n",
    "mvc_label.head(10)"
   ]
  },
  {
   "cell_type": "code",
   "execution_count": 16,
   "metadata": {},
   "outputs": [
    {
     "ename": "KeyError",
     "evalue": "'None of [[0 0 0 0 0 0 0 0 0 0 0 0 0 0 0 0 0 0 0 0 0 0 0 0 0 0 0 0 0 0 0 0 0 0 0 0 0\\n 0 0 0 0 0 0 0 0 0 0 0 0 0 0 0 0 0 0 0 0 0 0 0 0 0 0 0 0 0 1 0 0 0 0 0 0 0\\n 0 0 0 0 0 0 0 0 0 0 0 0 0 0 0 0 0 0 0 0 0 0 0 0 0 0 0 0 0 0 0 0 0 0 0 0 0\\n 0 0 0 1 0 0 0 0 0 0 0 0 0 0 0 0 0 0 0 0 0 0 0 0 0 0 0 0 0 0 0 0 0 0 0 0 0\\n 0 0 0 0 0 0 0 1 0 1 0 0 0 0 0 0 0 0 0 0 0 0 0 0 0 0 0 0 0 0 0 0 0 0 0 0 0\\n 0 0 0 0 0 0 0 0 0 0 0 0 0 0 0 0 0 0 0 0 0 0 0 0 0 0 0 1 0 0 0 0 0 0 0 0 0\\n 0 0 0 0 0 0 0 0 0 0 0 0 0 0 0 0 0 0 0 0 0 1 0 0 0 0 0 0 0 0 0 0 0 0 0 0 0\\n 1 0 1 0 0]] are in the [index]'",
     "output_type": "error",
     "traceback": [
      "\u001b[0;31m---------------------------------------------------------------------------\u001b[0m",
      "\u001b[0;31mKeyError\u001b[0m                                  Traceback (most recent call last)",
      "\u001b[0;32m<ipython-input-16-909fc7aee584>\u001b[0m in \u001b[0;36m<module>\u001b[0;34m()\u001b[0m\n\u001b[0;32m----> 1\u001b[0;31m \u001b[0my_train\u001b[0m \u001b[0;34m=\u001b[0m \u001b[0mnp\u001b[0m\u001b[0;34m.\u001b[0m\u001b[0marray\u001b[0m\u001b[0;34m(\u001b[0m\u001b[0;34m[\u001b[0m\u001b[0mmvc_label\u001b[0m\u001b[0;34m.\u001b[0m\u001b[0mloc\u001b[0m\u001b[0;34m[\u001b[0m\u001b[0mlabel\u001b[0m\u001b[0;34m]\u001b[0m \u001b[0;32mfor\u001b[0m \u001b[0mlabel\u001b[0m \u001b[0;32min\u001b[0m \u001b[0my_train\u001b[0m\u001b[0;34m]\u001b[0m\u001b[0;34m)\u001b[0m\u001b[0;34m\u001b[0m\u001b[0m\n\u001b[0m\u001b[1;32m      2\u001b[0m \u001b[0my_val\u001b[0m   \u001b[0;34m=\u001b[0m \u001b[0mnp\u001b[0m\u001b[0;34m.\u001b[0m\u001b[0marray\u001b[0m\u001b[0;34m(\u001b[0m\u001b[0;34m[\u001b[0m\u001b[0mmvc_label\u001b[0m\u001b[0;34m.\u001b[0m\u001b[0mloc\u001b[0m\u001b[0;34m[\u001b[0m\u001b[0mlabel\u001b[0m\u001b[0;34m]\u001b[0m \u001b[0;32mfor\u001b[0m \u001b[0mlabel\u001b[0m \u001b[0;32min\u001b[0m \u001b[0my_val\u001b[0m\u001b[0;34m]\u001b[0m\u001b[0;34m)\u001b[0m\u001b[0;34m\u001b[0m\u001b[0m\n",
      "\u001b[0;32m<ipython-input-16-909fc7aee584>\u001b[0m in \u001b[0;36m<listcomp>\u001b[0;34m(.0)\u001b[0m\n\u001b[0;32m----> 1\u001b[0;31m \u001b[0my_train\u001b[0m \u001b[0;34m=\u001b[0m \u001b[0mnp\u001b[0m\u001b[0;34m.\u001b[0m\u001b[0marray\u001b[0m\u001b[0;34m(\u001b[0m\u001b[0;34m[\u001b[0m\u001b[0mmvc_label\u001b[0m\u001b[0;34m.\u001b[0m\u001b[0mloc\u001b[0m\u001b[0;34m[\u001b[0m\u001b[0mlabel\u001b[0m\u001b[0;34m]\u001b[0m \u001b[0;32mfor\u001b[0m \u001b[0mlabel\u001b[0m \u001b[0;32min\u001b[0m \u001b[0my_train\u001b[0m\u001b[0;34m]\u001b[0m\u001b[0;34m)\u001b[0m\u001b[0;34m\u001b[0m\u001b[0m\n\u001b[0m\u001b[1;32m      2\u001b[0m \u001b[0my_val\u001b[0m   \u001b[0;34m=\u001b[0m \u001b[0mnp\u001b[0m\u001b[0;34m.\u001b[0m\u001b[0marray\u001b[0m\u001b[0;34m(\u001b[0m\u001b[0;34m[\u001b[0m\u001b[0mmvc_label\u001b[0m\u001b[0;34m.\u001b[0m\u001b[0mloc\u001b[0m\u001b[0;34m[\u001b[0m\u001b[0mlabel\u001b[0m\u001b[0;34m]\u001b[0m \u001b[0;32mfor\u001b[0m \u001b[0mlabel\u001b[0m \u001b[0;32min\u001b[0m \u001b[0my_val\u001b[0m\u001b[0;34m]\u001b[0m\u001b[0;34m)\u001b[0m\u001b[0;34m\u001b[0m\u001b[0m\n",
      "\u001b[0;32m/opt/conda/lib/python3.6/site-packages/pandas/core/indexing.py\u001b[0m in \u001b[0;36m__getitem__\u001b[0;34m(self, key)\u001b[0m\n\u001b[1;32m   1476\u001b[0m \u001b[0;34m\u001b[0m\u001b[0m\n\u001b[1;32m   1477\u001b[0m             \u001b[0mmaybe_callable\u001b[0m \u001b[0;34m=\u001b[0m \u001b[0mcom\u001b[0m\u001b[0;34m.\u001b[0m\u001b[0m_apply_if_callable\u001b[0m\u001b[0;34m(\u001b[0m\u001b[0mkey\u001b[0m\u001b[0;34m,\u001b[0m \u001b[0mself\u001b[0m\u001b[0;34m.\u001b[0m\u001b[0mobj\u001b[0m\u001b[0;34m)\u001b[0m\u001b[0;34m\u001b[0m\u001b[0m\n\u001b[0;32m-> 1478\u001b[0;31m             \u001b[0;32mreturn\u001b[0m \u001b[0mself\u001b[0m\u001b[0;34m.\u001b[0m\u001b[0m_getitem_axis\u001b[0m\u001b[0;34m(\u001b[0m\u001b[0mmaybe_callable\u001b[0m\u001b[0;34m,\u001b[0m \u001b[0maxis\u001b[0m\u001b[0;34m=\u001b[0m\u001b[0maxis\u001b[0m\u001b[0;34m)\u001b[0m\u001b[0;34m\u001b[0m\u001b[0m\n\u001b[0m\u001b[1;32m   1479\u001b[0m \u001b[0;34m\u001b[0m\u001b[0m\n\u001b[1;32m   1480\u001b[0m     \u001b[0;32mdef\u001b[0m \u001b[0m_is_scalar_access\u001b[0m\u001b[0;34m(\u001b[0m\u001b[0mself\u001b[0m\u001b[0;34m,\u001b[0m \u001b[0mkey\u001b[0m\u001b[0;34m)\u001b[0m\u001b[0;34m:\u001b[0m\u001b[0;34m\u001b[0m\u001b[0m\n",
      "\u001b[0;32m/opt/conda/lib/python3.6/site-packages/pandas/core/indexing.py\u001b[0m in \u001b[0;36m_getitem_axis\u001b[0;34m(self, key, axis)\u001b[0m\n\u001b[1;32m   1899\u001b[0m                     \u001b[0;32mraise\u001b[0m \u001b[0mValueError\u001b[0m\u001b[0;34m(\u001b[0m\u001b[0;34m'Cannot index with multidimensional key'\u001b[0m\u001b[0;34m)\u001b[0m\u001b[0;34m\u001b[0m\u001b[0m\n\u001b[1;32m   1900\u001b[0m \u001b[0;34m\u001b[0m\u001b[0m\n\u001b[0;32m-> 1901\u001b[0;31m                 \u001b[0;32mreturn\u001b[0m \u001b[0mself\u001b[0m\u001b[0;34m.\u001b[0m\u001b[0m_getitem_iterable\u001b[0m\u001b[0;34m(\u001b[0m\u001b[0mkey\u001b[0m\u001b[0;34m,\u001b[0m \u001b[0maxis\u001b[0m\u001b[0;34m=\u001b[0m\u001b[0maxis\u001b[0m\u001b[0;34m)\u001b[0m\u001b[0;34m\u001b[0m\u001b[0m\n\u001b[0m\u001b[1;32m   1902\u001b[0m \u001b[0;34m\u001b[0m\u001b[0m\n\u001b[1;32m   1903\u001b[0m             \u001b[0;31m# nested tuple slicing\u001b[0m\u001b[0;34m\u001b[0m\u001b[0;34m\u001b[0m\u001b[0m\n",
      "\u001b[0;32m/opt/conda/lib/python3.6/site-packages/pandas/core/indexing.py\u001b[0m in \u001b[0;36m_getitem_iterable\u001b[0;34m(self, key, axis)\u001b[0m\n\u001b[1;32m   1161\u001b[0m                     \u001b[0mresult\u001b[0m \u001b[0;34m=\u001b[0m \u001b[0mself\u001b[0m\u001b[0;34m.\u001b[0m\u001b[0mobj\u001b[0m\u001b[0;34m.\u001b[0m\u001b[0m_take\u001b[0m\u001b[0;34m(\u001b[0m\u001b[0mindexer\u001b[0m\u001b[0;34m[\u001b[0m\u001b[0mindexer\u001b[0m \u001b[0;34m!=\u001b[0m \u001b[0;34m-\u001b[0m\u001b[0;36m1\u001b[0m\u001b[0;34m]\u001b[0m\u001b[0;34m,\u001b[0m \u001b[0maxis\u001b[0m\u001b[0;34m=\u001b[0m\u001b[0maxis\u001b[0m\u001b[0;34m)\u001b[0m\u001b[0;34m\u001b[0m\u001b[0m\n\u001b[1;32m   1162\u001b[0m \u001b[0;34m\u001b[0m\u001b[0m\n\u001b[0;32m-> 1163\u001b[0;31m                     \u001b[0mself\u001b[0m\u001b[0;34m.\u001b[0m\u001b[0m_validate_read_indexer\u001b[0m\u001b[0;34m(\u001b[0m\u001b[0mkey\u001b[0m\u001b[0;34m,\u001b[0m \u001b[0mnew_indexer\u001b[0m\u001b[0;34m,\u001b[0m \u001b[0maxis\u001b[0m\u001b[0;34m)\u001b[0m\u001b[0;34m\u001b[0m\u001b[0m\n\u001b[0m\u001b[1;32m   1164\u001b[0m                     result = result._reindex_with_indexers(\n\u001b[1;32m   1165\u001b[0m                         \u001b[0;34m{\u001b[0m\u001b[0maxis\u001b[0m\u001b[0;34m:\u001b[0m \u001b[0;34m[\u001b[0m\u001b[0mnew_target\u001b[0m\u001b[0;34m,\u001b[0m \u001b[0mnew_indexer\u001b[0m\u001b[0;34m]\u001b[0m\u001b[0;34m}\u001b[0m\u001b[0;34m,\u001b[0m\u001b[0;34m\u001b[0m\u001b[0m\n",
      "\u001b[0;32m/opt/conda/lib/python3.6/site-packages/pandas/core/indexing.py\u001b[0m in \u001b[0;36m_validate_read_indexer\u001b[0;34m(self, key, indexer, axis)\u001b[0m\n\u001b[1;32m   1204\u001b[0m                 raise KeyError(\n\u001b[1;32m   1205\u001b[0m                     u\"None of [{key}] are in the [{axis}]\".format(\n\u001b[0;32m-> 1206\u001b[0;31m                         key=key, axis=self.obj._get_axis_name(axis)))\n\u001b[0m\u001b[1;32m   1207\u001b[0m \u001b[0;34m\u001b[0m\u001b[0m\n\u001b[1;32m   1208\u001b[0m             \u001b[0;31m# we skip the warning on Categorical/Interval\u001b[0m\u001b[0;34m\u001b[0m\u001b[0;34m\u001b[0m\u001b[0m\n",
      "\u001b[0;31mKeyError\u001b[0m: 'None of [[0 0 0 0 0 0 0 0 0 0 0 0 0 0 0 0 0 0 0 0 0 0 0 0 0 0 0 0 0 0 0 0 0 0 0 0 0\\n 0 0 0 0 0 0 0 0 0 0 0 0 0 0 0 0 0 0 0 0 0 0 0 0 0 0 0 0 0 1 0 0 0 0 0 0 0\\n 0 0 0 0 0 0 0 0 0 0 0 0 0 0 0 0 0 0 0 0 0 0 0 0 0 0 0 0 0 0 0 0 0 0 0 0 0\\n 0 0 0 1 0 0 0 0 0 0 0 0 0 0 0 0 0 0 0 0 0 0 0 0 0 0 0 0 0 0 0 0 0 0 0 0 0\\n 0 0 0 0 0 0 0 1 0 1 0 0 0 0 0 0 0 0 0 0 0 0 0 0 0 0 0 0 0 0 0 0 0 0 0 0 0\\n 0 0 0 0 0 0 0 0 0 0 0 0 0 0 0 0 0 0 0 0 0 0 0 0 0 0 0 1 0 0 0 0 0 0 0 0 0\\n 0 0 0 0 0 0 0 0 0 0 0 0 0 0 0 0 0 0 0 0 0 1 0 0 0 0 0 0 0 0 0 0 0 0 0 0 0\\n 1 0 1 0 0]] are in the [index]'"
     ]
    }
   ],
   "source": [
    "y_train = np.array([mvc_label.loc[label] for label in y_train])\n",
    "y_val   = np.array([mvc_label.loc[label] for label in y_val])"
   ]
  },
  {
   "cell_type": "code",
   "execution_count": 17,
   "metadata": {},
   "outputs": [
    {
     "data": {
      "text/plain": [
       "(145134, 264)"
      ]
     },
     "execution_count": 17,
     "metadata": {},
     "output_type": "execute_result"
    }
   ],
   "source": [
    "y_train.shape"
   ]
  },
  {
   "cell_type": "code",
   "execution_count": 18,
   "metadata": {},
   "outputs": [
    {
     "data": {
      "text/plain": [
       "(16126, 264)"
      ]
     },
     "execution_count": 18,
     "metadata": {},
     "output_type": "execute_result"
    }
   ],
   "source": [
    "y_val.shape"
   ]
  },
  {
   "cell_type": "code",
   "execution_count": 20,
   "metadata": {},
   "outputs": [],
   "source": [
    "np.savez_compressed('./mvc_train', x_train=x_train, y_train=y_train)\n",
    "np.savez_compressed('./mvc_valid', x_val=x_val, y_val=y_val)"
   ]
  },
  {
   "cell_type": "code",
   "execution_count": 4,
   "metadata": {},
   "outputs": [],
   "source": [
    "train = np.load('./mvc_train.npz')\n",
    "valid = np.load('./mvc_valid.npz')"
   ]
  },
  {
   "cell_type": "code",
   "execution_count": 5,
   "metadata": {},
   "outputs": [],
   "source": [
    "x_train = train['x_train']\n",
    "y_train = train['y_train']\n",
    "x_val = valid['x_val']\n",
    "y_val = valid['y_val']"
   ]
  },
  {
   "cell_type": "code",
   "execution_count": 6,
   "metadata": {},
   "outputs": [
    {
     "name": "stdout",
     "output_type": "stream",
     "text": [
      "Validation examples: 16126\n",
      "Y val examples: 16126\n",
      "Train examples: 145134\n",
      "Y examples: 145134\n"
     ]
    }
   ],
   "source": [
    "print(\"Validation examples:\", len(x_val))\n",
    "print(\"Y val examples:\", len(y_val))\n",
    "print(\"Train examples:\", len(x_train))\n",
    "print(\"Y examples:\", len(y_train))"
   ]
  },
  {
   "cell_type": "code",
   "execution_count": 7,
   "metadata": {},
   "outputs": [],
   "source": [
    "# Plotting on keras training\n",
    "# https://github.com/stared/livelossplot/\n",
    "from IPython.display import clear_output\n",
    "class PlotLearning(keras.callbacks.Callback):\n",
    "    def on_train_begin(self, logs={}):\n",
    "        self.i = 0\n",
    "        self.x = []\n",
    "        self.losses = []\n",
    "        self.val_losses = []\n",
    "        self.acc = []\n",
    "        self.val_acc = []\n",
    "        self.fig = plt.figure()\n",
    "        \n",
    "        self.logs = []\n",
    "\n",
    "    def on_epoch_end(self, epoch, logs={}):\n",
    "        \n",
    "        self.logs.append(logs)\n",
    "        self.x.append(self.i)\n",
    "        self.losses.append(logs.get('loss'))\n",
    "        self.val_losses.append(logs.get('val_loss'))\n",
    "        self.acc.append(logs.get('acc'))\n",
    "        self.val_acc.append(logs.get('val_acc'))\n",
    "        self.i += 1\n",
    "        f, (ax1, ax2) = plt.subplots(1, 2, sharex=True, figsize=(12,4))\n",
    "        \n",
    "        clear_output(wait=True)\n",
    "        \n",
    "        ax1.set_yscale('log')\n",
    "        ax1.plot(self.x, self.losses, label=\"train loss\")\n",
    "        ax1.plot(self.x, self.val_losses, label=\"validation loss\")\n",
    "        ax1.legend()\n",
    "        ax1.set_title(\"Loss Curves\")\n",
    "        ax1.set_ylabel(\"Loss\")\n",
    "        ax1.set_xlabel(\"Epochs\")\n",
    "        \n",
    "        ax2.plot(self.x, self.acc, label=\"train accuracy\")\n",
    "        ax2.plot(self.x, self.val_acc, label=\"validation accuracy\")\n",
    "        ax2.legend()\n",
    "        ax2.set_title(\"Accuracy Curves\")\n",
    "        ax2.set_ylabel(\"Accuracy\")\n",
    "        ax2.set_xlabel(\"Epochs\")\n",
    "        \n",
    "        plt.show();\n",
    "\n",
    "plot_losses = PlotLearning()"
   ]
  },
  {
   "cell_type": "code",
   "execution_count": 8,
   "metadata": {},
   "outputs": [],
   "source": [
    "def focal_loss(gamma=2., alpha=.25):\n",
    "    def focal_loss_fixed(y_true, y_pred):\n",
    "        pt_1 = tf.where(tf.equal(y_true, 1), y_pred, tf.ones_like(y_pred))\n",
    "        pt_0 = tf.where(tf.equal(y_true, 0), y_pred, tf.zeros_like(y_pred))\n",
    "        return -K.sum(alpha * K.pow(1. - pt_1, gamma) * K.log(pt_1))-K.sum((1-alpha) * K.pow( pt_0, gamma) * K.log(1. - pt_0))\n",
    "    return focal_loss_fixed"
   ]
  },
  {
   "cell_type": "code",
   "execution_count": 9,
   "metadata": {},
   "outputs": [
    {
     "name": "stdout",
     "output_type": "stream",
     "text": [
      "_________________________________________________________________\n",
      "Layer (type)                 Output Shape              Param #   \n",
      "=================================================================\n",
      "dense_1 (Dense)              (None, 1024)              4424704   \n",
      "_________________________________________________________________\n",
      "activation_1 (Activation)    (None, 1024)              0         \n",
      "_________________________________________________________________\n",
      "batch_normalization_1 (Batch (None, 1024)              4096      \n",
      "_________________________________________________________________\n",
      "dropout_1 (Dropout)          (None, 1024)              0         \n",
      "_________________________________________________________________\n",
      "dense_2 (Dense)              (None, 264)               270600    \n",
      "=================================================================\n",
      "Total params: 4,699,400\n",
      "Trainable params: 4,697,352\n",
      "Non-trainable params: 2,048\n",
      "_________________________________________________________________\n"
     ]
    }
   ],
   "source": [
    "model = Sequential()\n",
    "model.add(Dense(1024, input_dim=x_train.shape[1]))\n",
    "model.add(Activation('relu'))\n",
    "model.add(BatchNormalization())\n",
    "model.add(Dropout(0.5))\n",
    "model.add(Dense(y_train.shape[1], activation='sigmoid'))\n",
    "\n",
    "adam = keras.optimizers.Adam(lr=0.01)\n",
    "\n",
    "model.compile(loss=[focal_loss(gamma=2, alpha=.25)], optimizer=adam, metrics=['accuracy'])\n",
    "\n",
    "#model.add(Dense(5, activation='softmax'))\n",
    "#model.add(GlobalAveragePooling2D(input_dim=x_train.shape[1:]))\n",
    "#model.add(Dense(5 , activation='softmax'))\n",
    "model.summary()"
   ]
  },
  {
   "cell_type": "markdown",
   "metadata": {},
   "source": [
    "https://github.com/suhongs/dog-project/blob/master/dog_app.ipynb"
   ]
  },
  {
   "cell_type": "code",
   "execution_count": 10,
   "metadata": {},
   "outputs": [
    {
     "name": "stdout",
     "output_type": "stream",
     "text": [
      "Train on 145134 samples, validate on 16126 samples\n",
      "Epoch 1/20\n",
      "  6976/145134 [>.............................] - ETA: 1:59 - loss: 238.8382 - acc: 0.0361"
     ]
    },
    {
     "ename": "KeyboardInterrupt",
     "evalue": "",
     "output_type": "error",
     "traceback": [
      "\u001b[0;31m---------------------------------------------------------------------------\u001b[0m",
      "\u001b[0;31mKeyboardInterrupt\u001b[0m                         Traceback (most recent call last)",
      "\u001b[0;32m<ipython-input-10-c9e93b0fd256>\u001b[0m in \u001b[0;36m<module>\u001b[0;34m()\u001b[0m\n\u001b[1;32m      8\u001b[0m \u001b[0;34m\u001b[0m\u001b[0m\n\u001b[1;32m      9\u001b[0m history = model.fit(x_train, y_train, validation_data=(x_val, y_val), epochs=20,\n\u001b[0;32m---> 10\u001b[0;31m                     batch_size=32, callbacks=[mc_top, plot_losses], verbose=1)\n\u001b[0m",
      "\u001b[0;32m/usr/local/lib/python3.5/dist-packages/keras/engine/training.py\u001b[0m in \u001b[0;36mfit\u001b[0;34m(self, x, y, batch_size, epochs, verbose, callbacks, validation_split, validation_data, shuffle, class_weight, sample_weight, initial_epoch, steps_per_epoch, validation_steps, **kwargs)\u001b[0m\n\u001b[1;32m   1035\u001b[0m                                         \u001b[0minitial_epoch\u001b[0m\u001b[0;34m=\u001b[0m\u001b[0minitial_epoch\u001b[0m\u001b[0;34m,\u001b[0m\u001b[0;34m\u001b[0m\u001b[0m\n\u001b[1;32m   1036\u001b[0m                                         \u001b[0msteps_per_epoch\u001b[0m\u001b[0;34m=\u001b[0m\u001b[0msteps_per_epoch\u001b[0m\u001b[0;34m,\u001b[0m\u001b[0;34m\u001b[0m\u001b[0m\n\u001b[0;32m-> 1037\u001b[0;31m                                         validation_steps=validation_steps)\n\u001b[0m\u001b[1;32m   1038\u001b[0m \u001b[0;34m\u001b[0m\u001b[0m\n\u001b[1;32m   1039\u001b[0m     def evaluate(self, x=None, y=None,\n",
      "\u001b[0;32m/usr/local/lib/python3.5/dist-packages/keras/engine/training_arrays.py\u001b[0m in \u001b[0;36mfit_loop\u001b[0;34m(model, f, ins, out_labels, batch_size, epochs, verbose, callbacks, val_f, val_ins, shuffle, callback_metrics, initial_epoch, steps_per_epoch, validation_steps)\u001b[0m\n\u001b[1;32m    197\u001b[0m                     \u001b[0mins_batch\u001b[0m\u001b[0;34m[\u001b[0m\u001b[0mi\u001b[0m\u001b[0;34m]\u001b[0m \u001b[0;34m=\u001b[0m \u001b[0mins_batch\u001b[0m\u001b[0;34m[\u001b[0m\u001b[0mi\u001b[0m\u001b[0;34m]\u001b[0m\u001b[0;34m.\u001b[0m\u001b[0mtoarray\u001b[0m\u001b[0;34m(\u001b[0m\u001b[0;34m)\u001b[0m\u001b[0;34m\u001b[0m\u001b[0m\n\u001b[1;32m    198\u001b[0m \u001b[0;34m\u001b[0m\u001b[0m\n\u001b[0;32m--> 199\u001b[0;31m                 \u001b[0mouts\u001b[0m \u001b[0;34m=\u001b[0m \u001b[0mf\u001b[0m\u001b[0;34m(\u001b[0m\u001b[0mins_batch\u001b[0m\u001b[0;34m)\u001b[0m\u001b[0;34m\u001b[0m\u001b[0m\n\u001b[0m\u001b[1;32m    200\u001b[0m                 \u001b[0mouts\u001b[0m \u001b[0;34m=\u001b[0m \u001b[0mto_list\u001b[0m\u001b[0;34m(\u001b[0m\u001b[0mouts\u001b[0m\u001b[0;34m)\u001b[0m\u001b[0;34m\u001b[0m\u001b[0m\n\u001b[1;32m    201\u001b[0m                 \u001b[0;32mfor\u001b[0m \u001b[0ml\u001b[0m\u001b[0;34m,\u001b[0m \u001b[0mo\u001b[0m \u001b[0;32min\u001b[0m \u001b[0mzip\u001b[0m\u001b[0;34m(\u001b[0m\u001b[0mout_labels\u001b[0m\u001b[0;34m,\u001b[0m \u001b[0mouts\u001b[0m\u001b[0;34m)\u001b[0m\u001b[0;34m:\u001b[0m\u001b[0;34m\u001b[0m\u001b[0m\n",
      "\u001b[0;32m/usr/local/lib/python3.5/dist-packages/keras/backend/tensorflow_backend.py\u001b[0m in \u001b[0;36m__call__\u001b[0;34m(self, inputs)\u001b[0m\n\u001b[1;32m   2664\u001b[0m                 \u001b[0;32mreturn\u001b[0m \u001b[0mself\u001b[0m\u001b[0;34m.\u001b[0m\u001b[0m_legacy_call\u001b[0m\u001b[0;34m(\u001b[0m\u001b[0minputs\u001b[0m\u001b[0;34m)\u001b[0m\u001b[0;34m\u001b[0m\u001b[0m\n\u001b[1;32m   2665\u001b[0m \u001b[0;34m\u001b[0m\u001b[0m\n\u001b[0;32m-> 2666\u001b[0;31m             \u001b[0;32mreturn\u001b[0m \u001b[0mself\u001b[0m\u001b[0;34m.\u001b[0m\u001b[0m_call\u001b[0m\u001b[0;34m(\u001b[0m\u001b[0minputs\u001b[0m\u001b[0;34m)\u001b[0m\u001b[0;34m\u001b[0m\u001b[0m\n\u001b[0m\u001b[1;32m   2667\u001b[0m         \u001b[0;32melse\u001b[0m\u001b[0;34m:\u001b[0m\u001b[0;34m\u001b[0m\u001b[0m\n\u001b[1;32m   2668\u001b[0m             \u001b[0;32mif\u001b[0m \u001b[0mpy_any\u001b[0m\u001b[0;34m(\u001b[0m\u001b[0mis_tensor\u001b[0m\u001b[0;34m(\u001b[0m\u001b[0mx\u001b[0m\u001b[0;34m)\u001b[0m \u001b[0;32mfor\u001b[0m \u001b[0mx\u001b[0m \u001b[0;32min\u001b[0m \u001b[0minputs\u001b[0m\u001b[0;34m)\u001b[0m\u001b[0;34m:\u001b[0m\u001b[0;34m\u001b[0m\u001b[0m\n",
      "\u001b[0;32m/usr/local/lib/python3.5/dist-packages/keras/backend/tensorflow_backend.py\u001b[0m in \u001b[0;36m_call\u001b[0;34m(self, inputs)\u001b[0m\n\u001b[1;32m   2634\u001b[0m                                 \u001b[0msymbol_vals\u001b[0m\u001b[0;34m,\u001b[0m\u001b[0;34m\u001b[0m\u001b[0m\n\u001b[1;32m   2635\u001b[0m                                 session)\n\u001b[0;32m-> 2636\u001b[0;31m         \u001b[0mfetched\u001b[0m \u001b[0;34m=\u001b[0m \u001b[0mself\u001b[0m\u001b[0;34m.\u001b[0m\u001b[0m_callable_fn\u001b[0m\u001b[0;34m(\u001b[0m\u001b[0;34m*\u001b[0m\u001b[0marray_vals\u001b[0m\u001b[0;34m)\u001b[0m\u001b[0;34m\u001b[0m\u001b[0m\n\u001b[0m\u001b[1;32m   2637\u001b[0m         \u001b[0;32mreturn\u001b[0m \u001b[0mfetched\u001b[0m\u001b[0;34m[\u001b[0m\u001b[0;34m:\u001b[0m\u001b[0mlen\u001b[0m\u001b[0;34m(\u001b[0m\u001b[0mself\u001b[0m\u001b[0;34m.\u001b[0m\u001b[0moutputs\u001b[0m\u001b[0;34m)\u001b[0m\u001b[0;34m]\u001b[0m\u001b[0;34m\u001b[0m\u001b[0m\n\u001b[1;32m   2638\u001b[0m \u001b[0;34m\u001b[0m\u001b[0m\n",
      "\u001b[0;32m/usr/local/lib/python3.5/dist-packages/tensorflow/python/client/session.py\u001b[0m in \u001b[0;36m__call__\u001b[0;34m(self, *args, **kwargs)\u001b[0m\n\u001b[1;32m   1380\u001b[0m           ret = tf_session.TF_SessionRunCallable(\n\u001b[1;32m   1381\u001b[0m               \u001b[0mself\u001b[0m\u001b[0;34m.\u001b[0m\u001b[0m_session\u001b[0m\u001b[0;34m.\u001b[0m\u001b[0m_session\u001b[0m\u001b[0;34m,\u001b[0m \u001b[0mself\u001b[0m\u001b[0;34m.\u001b[0m\u001b[0m_handle\u001b[0m\u001b[0;34m,\u001b[0m \u001b[0margs\u001b[0m\u001b[0;34m,\u001b[0m \u001b[0mstatus\u001b[0m\u001b[0;34m,\u001b[0m\u001b[0;34m\u001b[0m\u001b[0m\n\u001b[0;32m-> 1382\u001b[0;31m               run_metadata_ptr)\n\u001b[0m\u001b[1;32m   1383\u001b[0m         \u001b[0;32mif\u001b[0m \u001b[0mrun_metadata\u001b[0m\u001b[0;34m:\u001b[0m\u001b[0;34m\u001b[0m\u001b[0m\n\u001b[1;32m   1384\u001b[0m           \u001b[0mproto_data\u001b[0m \u001b[0;34m=\u001b[0m \u001b[0mtf_session\u001b[0m\u001b[0;34m.\u001b[0m\u001b[0mTF_GetBuffer\u001b[0m\u001b[0;34m(\u001b[0m\u001b[0mrun_metadata_ptr\u001b[0m\u001b[0;34m)\u001b[0m\u001b[0;34m\u001b[0m\u001b[0m\n",
      "\u001b[0;31mKeyboardInterrupt\u001b[0m: "
     ]
    },
    {
     "data": {
      "text/plain": [
       "<Figure size 432x288 with 0 Axes>"
      ]
     },
     "metadata": {},
     "output_type": "display_data"
    }
   ],
   "source": [
    "filepath=\"./model/hub_focal_loss/weights-improvement-{epoch:02d}-l_{val_loss:.4f}-{loss:.4f}_-ac_{val_acc:.4f}.hdf5\"\n",
    "mc_top = ModelCheckpoint(filepath,\n",
    "                         monitor='val_loss', verbose=0,\n",
    "                         save_best_only=True,\n",
    "                         save_weights_only=False,\n",
    "                         mode='auto', period=1)\n",
    "\n",
    "\n",
    "history = model.fit(x_train, y_train, validation_data=(x_val, y_val), epochs=20,\n",
    "                    batch_size=32, callbacks=[mc_top, plot_losses], verbose=1)"
   ]
  },
  {
   "cell_type": "code",
   "execution_count": 30,
   "metadata": {},
   "outputs": [
    {
     "name": "stdout",
     "output_type": "stream",
     "text": [
      "Accuracy 0.98510263869\n"
     ]
    }
   ],
   "source": [
    "preds = model.predict(x_val)\n",
    "preds[preds>=0.5] = 1\n",
    "preds[preds<0.5] = 0\n",
    "\n",
    "result = preds.reshape(-1) == y_val.reshape(-1)\n",
    "acc_on_test = sum(result)/len(result)\n",
    "print(\"Accuracy\", acc_on_test)"
   ]
  },
  {
   "cell_type": "code",
   "execution_count": 32,
   "metadata": {},
   "outputs": [
    {
     "name": "stdout",
     "output_type": "stream",
     "text": [
      "./model/hub/weights-improvement-03-l_0.0472-0.0495_-ac_0.9826.hdf5\n"
     ]
    },
    {
     "name": "stderr",
     "output_type": "stream",
     "text": [
      "/opt/conda/lib/python3.6/site-packages/sklearn/metrics/classification.py:1135: UndefinedMetricWarning: F-score is ill-defined and being set to 0.0 in samples with no predicted labels.\n",
      "  'precision', 'predicted', average, warn_for)\n"
     ]
    },
    {
     "name": "stdout",
     "output_type": "stream",
     "text": [
      "Scores: [0.047171289384694039, 0.98256769043391234] F1: 0.616850761137\n",
      "-\n",
      "\n",
      "./model/hub/weights-improvement-05-l_0.0433-0.0457_-ac_0.9837.hdf5\n",
      "Scores: [0.043294067696359691, 0.98366064670791731] F1: 0.659136830476\n",
      "-\n",
      "\n",
      "./model/hub/weights-improvement-15-l_0.0393-0.0399_-ac_0.9849.hdf5\n",
      "Scores: [0.039271734600846736, 0.98485812540017659] F1: 0.691191731385\n",
      "-\n",
      "\n",
      "./model/hub/weights-improvement-14-l_0.0396-0.0403_-ac_0.9848.hdf5\n",
      "Scores: [0.039642534081392247, 0.98475172109998932] F1: 0.690682379972\n",
      "-\n",
      "\n",
      "./model/hub/weights-improvement-04-l_0.0448-0.0471_-ac_0.9833.hdf5\n",
      "Scores: [0.044822394466701013, 0.98329961528320342] F1: 0.649388883633\n",
      "-\n",
      "\n",
      "./model/hub/weights-improvement-11-l_0.0403-0.0415_-ac_0.9845.hdf5\n",
      "Scores: [0.040310970891387646, 0.98448934556384338] F1: 0.677817613311\n",
      "-\n",
      "\n",
      "./model/hub/weights-improvement-04-l_22.8613-23.2630_-ac_0.0844.hdf5\n",
      "Scores: [0.29390757170087806, 0.87801860723633873] F1: 0.328540158608\n",
      "-\n",
      "\n",
      "./model/hub/weights-improvement-08-l_0.0415-0.0431_-ac_0.9842.hdf5\n",
      "Scores: [0.041503285673834704, 0.98416707324402131] F1: 0.67452648276\n",
      "-\n",
      "\n",
      "./model/hub/weights-improvement-02-l_0.0512-0.0545_-ac_0.9819.hdf5\n",
      "Scores: [0.051232374553110915, 0.98187922091899815] F1: 0.59887802467\n",
      "-\n",
      "\n",
      "./model/hub/weights-improvement-06-l_0.0424-0.0446_-ac_0.9839.hdf5\n",
      "Scores: [0.042440872157065788, 0.98390634264970234] F1: 0.666989465772\n",
      "-\n",
      "\n",
      "./model/hub/weights-improvement-12-l_0.0400-0.0411_-ac_0.9846.hdf5\n",
      "Scores: [0.039986646235077875, 0.98460937811159455] F1: 0.683507181043\n",
      "-\n",
      "\n",
      "./model/hub/weights-improvement-16-l_0.0390-0.0396_-ac_0.9849.hdf5\n",
      "Scores: [0.039038491831880108, 0.98490604517641134] F1: 0.69446073147\n",
      "-\n",
      "\n",
      "./model/hub/weights-improvement-05-l_22.8216-23.1490_-ac_0.1001.hdf5\n",
      "Scores: [0.26194106601802375, 0.89328639273399246] F1: 0.356288124556\n",
      "-\n",
      "\n",
      "./model/hub/weights-improvement-09-l_0.0409-0.0425_-ac_0.9843.hdf5\n",
      "Scores: [0.040913973551122959, 0.98431341284101714] F1: 0.682805044862\n",
      "-\n",
      "\n",
      "./model/hub/weights-improvement-17-l_0.0389-0.0393_-ac_0.9850.hdf5\n",
      "Scores: [0.038858317705496186, 0.98496147895234842] F1: 0.69847188038\n",
      "-\n",
      "\n",
      "./model/hub/weights-improvement-18-l_0.0386-0.0390_-ac_0.9850.hdf5\n",
      "Scores: [0.038622079090690341, 0.98498731987597288] F1: 0.69757290028\n",
      "-\n",
      "\n",
      "./model/hub/weights-improvement-02-l_23.1001-23.6064_-ac_0.0991.hdf5\n",
      "Scores: [0.33275648150198012, 0.86535977135221465] F1: 0.305992173855\n",
      "-\n",
      "\n",
      "./model/hub/weights-improvement-13-l_0.0397-0.0407_-ac_0.9847.hdf5\n",
      "Scores: [0.039696115759237961, 0.98470849807809746] F1: 0.690621200279\n",
      "-\n",
      "\n",
      "./model/hub/weights-improvement-01-l_23.5418-23.8712_-ac_0.0463.hdf5\n",
      "Scores: [0.35134203840866285, 0.85462048060985973] F1: 0.28832373628\n",
      "-\n",
      "\n",
      "./model/hub/weights-improvement-10-l_0.0406-0.0420_-ac_0.9845.hdf5\n",
      "Scores: [0.040586926843719215, 0.98445035280844839] F1: 0.689465597276\n",
      "-\n",
      "\n",
      "./model/hub/weights-improvement-07-l_0.0418-0.0437_-ac_0.9840.hdf5\n",
      "Scores: [0.041826536359398737, 0.98404868855808147] F1: 0.67209328349\n",
      "-\n",
      "\n",
      "./model/hub/weights-improvement-20-l_0.0384-0.0385_-ac_0.9851.hdf5\n",
      "Scores: [0.038446482999566087, 0.98510265124874641] F1: 0.702256543642\n",
      "-\n",
      "\n",
      "./model/hub/weights-improvement-01-l_0.0574-0.2735_-ac_0.9810.hdf5\n",
      "Scores: [0.057418271952355958, 0.98096877454779929] F1: 0.576423612235\n",
      "-\n",
      "\n"
     ]
    }
   ],
   "source": [
    "for weights in glob.glob('./model/hub/*weights-improvement*.hdf5'):\n",
    "    print(weights)\n",
    "    model.load_weights(weights)\n",
    "    model.compile(loss='binary_crossentropy', optimizer='adam', metrics=['accuracy'])\n",
    "    scores = model.evaluate(x_val, y_val, verbose=0)\n",
    "    y_pred = model.predict(x_val)\n",
    "    y_pred[y_pred>=0.5] = 1\n",
    "    y_pred[y_pred<0.5] = 0\n",
    "    f1_value = f1_score(y_val, y_pred, average='samples')\n",
    "    print(\"Scores:\", scores, \"F1:\", f1_value)\n",
    "    print(\"-\\n\")"
   ]
  },
  {
   "cell_type": "code",
   "execution_count": 53,
   "metadata": {},
   "outputs": [],
   "source": [
    "attr=pd.Series(mvc_label.columns.values)"
   ]
  },
  {
   "cell_type": "code",
   "execution_count": 346,
   "metadata": {},
   "outputs": [
    {
     "data": {
      "text/plain": [
       "16126"
      ]
     },
     "execution_count": 346,
     "metadata": {},
     "output_type": "execute_result"
    }
   ],
   "source": [
    "val_bottles = glob.glob('./hub_dataset/validation/*.txt')\n",
    "x_val.shape[0]"
   ]
  },
  {
   "cell_type": "code",
   "execution_count": 348,
   "metadata": {},
   "outputs": [
    {
     "data": {
      "text/plain": [
       "16126"
      ]
     },
     "execution_count": 348,
     "metadata": {},
     "output_type": "execute_result"
    }
   ],
   "source": [
    "len(val_bottles)"
   ]
  },
  {
   "cell_type": "code",
   "execution_count": 349,
   "metadata": {},
   "outputs": [
    {
     "name": "stdout",
     "output_type": "stream",
     "text": [
      "./rename/p8612127_s3351374_v0.jpg\n"
     ]
    }
   ],
   "source": [
    "i = random.randint(0, x_val.shape[0])\n",
    "im_path = val_bottles[i].replace(file_tail, \"\").replace(\"hub_dataset/validation/\", \"rename/\")\n",
    "print(im_path)\n",
    "pred = model.predict(x_val[i:i+1])\n",
    "indexes = np.where(pred[0,:] > 0.5)"
   ]
  },
  {
   "cell_type": "code",
   "execution_count": 350,
   "metadata": {},
   "outputs": [
    {
     "data": {
      "text/plain": [
       "155     Polyester\n",
       "191    Sleeveless\n",
       "261     hundred2U\n",
       "dtype: object"
      ]
     },
     "execution_count": 350,
     "metadata": {},
     "output_type": "execute_result"
    }
   ],
   "source": [
    "attr.iloc[indexes]"
   ]
  },
  {
   "cell_type": "code",
   "execution_count": 351,
   "metadata": {},
   "outputs": [
    {
     "data": {
      "text/plain": [
       "17          Boatneck\n",
       "93      GraphicPrint\n",
       "106       KneeLength\n",
       "155        Polyester\n",
       "178    SheathDresses\n",
       "191       Sleeveless\n",
       "261        hundred2U\n",
       "dtype: object"
      ]
     },
     "execution_count": 351,
     "metadata": {},
     "output_type": "execute_result"
    }
   ],
   "source": [
    "actual_idx = np.where(y_val[i] > 0)[0]\n",
    "attr.iloc[actual_idx]"
   ]
  },
  {
   "cell_type": "code",
   "execution_count": 352,
   "metadata": {},
   "outputs": [
    {
     "data": {
      "image/jpeg": "[encoded data removed]",
      "text/plain": [
       "<IPython.core.display.Image object>"
      ]
     },
     "execution_count": 352,
     "metadata": {},
     "output_type": "execute_result"
    }
   ],
   "source": [
    "from IPython.display import Image\n",
    "Image(im_path)"
   ]
  },
  {
   "cell_type": "code",
   "execution_count": 334,
   "metadata": {},
   "outputs": [],
   "source": [
    "showfit = np.load('../showfit/showfit_val.npz')"
   ]
  },
  {
   "cell_type": "code",
   "execution_count": 335,
   "metadata": {},
   "outputs": [],
   "source": [
    "shofit_x = showfit['x_val']\n",
    "shofit_y = showfit['y_val']"
   ]
  },
  {
   "cell_type": "code",
   "execution_count": 408,
   "metadata": {},
   "outputs": [
    {
     "data": {
      "text/plain": [
       "20096"
      ]
     },
     "execution_count": 408,
     "metadata": {},
     "output_type": "execute_result"
    }
   ],
   "source": [
    "val_bottles = glob.glob('../showfit/hub_dataset/validation/*/*.txt')\n",
    "shofit_x.shape[0]"
   ]
  },
  {
   "cell_type": "code",
   "execution_count": 530,
   "metadata": {},
   "outputs": [
    {
     "name": "stdout",
     "output_type": "stream",
     "text": [
      "../showfit/data/OUTER/185442_1_3.jpg\n"
     ]
    }
   ],
   "source": [
    "i = random.randint(0, shofit_x.shape[0])\n",
    "im_path = val_bottles[i].replace(file_tail, \"\").replace(\"../showfit/hub_dataset/validation/\", \"../showfit/data/\")\n",
    "print(im_path)\n",
    "pred = model.predict(shofit_x[i:i+1])\n",
    "indexes = np.where(pred[0,:] > 0.5)"
   ]
  },
  {
   "cell_type": "code",
   "execution_count": 531,
   "metadata": {},
   "outputs": [
    {
     "data": {
      "image/jpeg": "[encoded data removed]",
      "text/plain": [
       "<IPython.core.display.Image object>"
      ]
     },
     "execution_count": 531,
     "metadata": {},
     "output_type": "execute_result"
    }
   ],
   "source": [
    "Image(im_path)"
   ]
  },
  {
   "cell_type": "code",
   "execution_count": 532,
   "metadata": {},
   "outputs": [
    {
     "data": {
      "text/plain": [
       "13                Black\n",
       "105    InsulatedJackets\n",
       "155           Polyester\n",
       "260           hundred2O\n",
       "dtype: object"
      ]
     },
     "execution_count": 532,
     "metadata": {},
     "output_type": "execute_result"
    }
   ],
   "source": [
    "showfit_pred = model.predict(shofit_x[i:i+1])\n",
    "indexes = np.where(showfit_pred[0,:] > 0.5)\n",
    "attr.iloc[indexes]"
   ]
  },
  {
   "cell_type": "code",
   "execution_count": null,
   "metadata": {},
   "outputs": [],
   "source": []
  }
 ],
 "metadata": {
  "kernelspec": {
   "display_name": "Python 3",
   "language": "python",
   "name": "python3"
  },
  "language_info": {
   "codemirror_mode": {
    "name": "ipython",
    "version": 3
   },
   "file_extension": ".py",
   "mimetype": "text/x-python",
   "name": "python",
   "nbconvert_exporter": "python",
   "pygments_lexer": "ipython3",
   "version": "3.5.2"
  }
 },
 "nbformat": 4,
 "nbformat_minor": 2
}
