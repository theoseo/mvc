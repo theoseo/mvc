{
 "cells": [
  {
   "cell_type": "code",
   "execution_count": 1,
   "metadata": {},
   "outputs": [
    {
     "name": "stderr",
     "output_type": "stream",
     "text": [
      "Using TensorFlow backend.\n"
     ]
    }
   ],
   "source": [
    "import numpy as np\n",
    "import tensorflow as tf\n",
    "import pandas as pd\n",
    "import glob\n",
    "import random\n",
    "from sklearn import model_selection\n",
    "\n",
    "from keras.applications.nasnet import NASNetLarge\n",
    "from keras.applications.inception_v3 import InceptionV3\n",
    "from keras.preprocessing import image\n",
    "from keras.models import Model, Sequential\n",
    "from keras.layers import Dense, GlobalAveragePooling2D, Dropout, Activation, BatchNormalization\n",
    "from keras import backend as K\n",
    "from keras.callbacks import ModelCheckpoint, TensorBoard\n",
    "from keras.optimizers import Adam\n",
    "from matplotlib import pyplot as plt\n",
    "from itertools import chain, repeat, cycle\n",
    "import keras\n",
    "from sklearn.metrics import f1_score\n",
    "import cv2\n",
    "from tqdm import tqdm\n",
    "from keras.utils import to_categorical\n",
    "\n",
    "import os\n",
    "import shutil\n",
    "%matplotlib inline"
   ]
  },
  {
   "cell_type": "code",
   "execution_count": 2,
   "metadata": {},
   "outputs": [],
   "source": [
    "DATA_DIR = \"./hub_dataset\"\n",
    "BOTTLE_DIR = \"./bottleneck\"\n",
    "TRAIN_DIR = DATA_DIR + \"/train\"\n",
    "VAL_DIR = DATA_DIR + \"/validation\"\n",
    "file_tail = \"_https~tfhub.dev~google~imagenet~pnasnet_large~feature_vector~1.txt\""
   ]
  },
  {
   "cell_type": "code",
   "execution_count": 3,
   "metadata": {},
   "outputs": [
    {
     "name": "stdout",
     "output_type": "stream",
     "text": [
      "creating data directories for training and validation\n"
     ]
    }
   ],
   "source": [
    "NUM_TRAIN_EXAMPLES = 0\n",
    "NUM_VAL_EXAMPLES = 0\n",
    "\n",
    "if not os.path.exists(TRAIN_DIR) or  not os.path.exists(VAL_DIR):\n",
    "    data = glob.glob(BOTTLE_DIR + \"/*/*.txt\")\n",
    "    print(\"creating data directories for training and validation\")\n",
    "    train, val = model_selection.train_test_split(data, test_size=0.1)\n",
    "    os.makedirs(TRAIN_DIR)\n",
    "    os.makedirs(VAL_DIR)\n",
    "\n",
    "    for e in train:\n",
    "        shutil.copy(e, TRAIN_DIR + \"/\" + e.split(\"/\")[-1] )\n",
    "    for e in val:\n",
    "        shutil.copy(e, VAL_DIR + \"/\" + e.split(\"/\")[-1] )\n",
    "else:\n",
    "    print(\"directories already exist\")\n",
    "    NUM_TRAIN_EXAMPLES = len(glob.glob(TRAIN_DIR+\"/*.txt\"))\n",
    "    print(\"Train:\", NUM_TRAIN_EXAMPLES )\n",
    "    NUM_VAL_EXAMPLES = len(glob.glob(VAL_DIR+\"/*.txt\"))\n",
    "    print(\"Validation:\",NUM_VAL_EXAMPLES )"
   ]
  },
  {
   "cell_type": "code",
   "execution_count": 4,
   "metadata": {},
   "outputs": [],
   "source": [
    "def features_from_bottles(bottles):\n",
    "    X = []\n",
    "    y = []\n",
    "    for bottle in tqdm(bottles):\n",
    "        label = bottle.split(\"/\")[-1].replace(file_tail, \"\")\n",
    "        line = open(bottle).readlines()\n",
    "        X.append( np.loadtxt(line[0].split(','), dtype=np.float32) )\n",
    "        y.append(label)\n",
    "        \n",
    "    X = np.array(X)\n",
    "    return (X, y)"
   ]
  },
  {
   "cell_type": "code",
   "execution_count": 5,
   "metadata": {},
   "outputs": [
    {
     "name": "stderr",
     "output_type": "stream",
     "text": [
      "100%|██████████| 16126/16126 [05:24<00:00, 49.75it/s]\n",
      "100%|██████████| 145134/145134 [50:29<00:00, 47.90it/s]\n"
     ]
    }
   ],
   "source": [
    "bottles = glob.glob(VAL_DIR + \"/*.txt\")\n",
    "x_val, y_val = features_from_bottles(bottles)\n",
    "\n",
    "\n",
    "bottles = glob.glob(TRAIN_DIR + \"/*.txt\")\n",
    "x_train, y_train = features_from_bottles(bottles)\n"
   ]
  },
  {
   "cell_type": "code",
   "execution_count": 12,
   "metadata": {},
   "outputs": [
    {
     "data": {
      "text/html": [
       "<div>\n",
       "<style scoped>\n",
       "    .dataframe tbody tr th:only-of-type {\n",
       "        vertical-align: middle;\n",
       "    }\n",
       "\n",
       "    .dataframe tbody tr th {\n",
       "        vertical-align: top;\n",
       "    }\n",
       "\n",
       "    .dataframe thead th {\n",
       "        text-align: right;\n",
       "    }\n",
       "</style>\n",
       "<table border=\"1\" class=\"dataframe\">\n",
       "  <thead>\n",
       "    <tr style=\"text-align: right;\">\n",
       "      <th></th>\n",
       "      <th>AlineDresses</th>\n",
       "      <th>AnimalPrint</th>\n",
       "      <th>Anoraks</th>\n",
       "      <th>Argyle</th>\n",
       "      <th>Asymmetrical</th>\n",
       "      <th>Athletic</th>\n",
       "      <th>BabyDollDresses</th>\n",
       "      <th>BalconetteBras</th>\n",
       "      <th>Bandeau</th>\n",
       "      <th>BandeauBras</th>\n",
       "      <th>...</th>\n",
       "      <th>Yellow</th>\n",
       "      <th>ZebraPrint</th>\n",
       "      <th>Zipper</th>\n",
       "      <th>fiftyU</th>\n",
       "      <th>halfZip</th>\n",
       "      <th>hundred1U</th>\n",
       "      <th>hundred2O</th>\n",
       "      <th>hundred2U</th>\n",
       "      <th>quarter3Zip</th>\n",
       "      <th>quarterZip</th>\n",
       "    </tr>\n",
       "    <tr>\n",
       "      <th>filename</th>\n",
       "      <th></th>\n",
       "      <th></th>\n",
       "      <th></th>\n",
       "      <th></th>\n",
       "      <th></th>\n",
       "      <th></th>\n",
       "      <th></th>\n",
       "      <th></th>\n",
       "      <th></th>\n",
       "      <th></th>\n",
       "      <th></th>\n",
       "      <th></th>\n",
       "      <th></th>\n",
       "      <th></th>\n",
       "      <th></th>\n",
       "      <th></th>\n",
       "      <th></th>\n",
       "      <th></th>\n",
       "      <th></th>\n",
       "      <th></th>\n",
       "      <th></th>\n",
       "    </tr>\n",
       "  </thead>\n",
       "  <tbody>\n",
       "    <tr>\n",
       "      <th>p7258521_s3163710_v0.jpg</th>\n",
       "      <td>0</td>\n",
       "      <td>0</td>\n",
       "      <td>0</td>\n",
       "      <td>0</td>\n",
       "      <td>0</td>\n",
       "      <td>0</td>\n",
       "      <td>0</td>\n",
       "      <td>0</td>\n",
       "      <td>0</td>\n",
       "      <td>0</td>\n",
       "      <td>...</td>\n",
       "      <td>0</td>\n",
       "      <td>0</td>\n",
       "      <td>0</td>\n",
       "      <td>0</td>\n",
       "      <td>0</td>\n",
       "      <td>0</td>\n",
       "      <td>0</td>\n",
       "      <td>1</td>\n",
       "      <td>0</td>\n",
       "      <td>0</td>\n",
       "    </tr>\n",
       "    <tr>\n",
       "      <th>p7258521_s3163710_v1.jpg</th>\n",
       "      <td>0</td>\n",
       "      <td>0</td>\n",
       "      <td>0</td>\n",
       "      <td>0</td>\n",
       "      <td>0</td>\n",
       "      <td>0</td>\n",
       "      <td>0</td>\n",
       "      <td>0</td>\n",
       "      <td>0</td>\n",
       "      <td>0</td>\n",
       "      <td>...</td>\n",
       "      <td>0</td>\n",
       "      <td>0</td>\n",
       "      <td>0</td>\n",
       "      <td>0</td>\n",
       "      <td>0</td>\n",
       "      <td>0</td>\n",
       "      <td>0</td>\n",
       "      <td>1</td>\n",
       "      <td>0</td>\n",
       "      <td>0</td>\n",
       "    </tr>\n",
       "    <tr>\n",
       "      <th>p7258521_s3163710_v2.jpg</th>\n",
       "      <td>0</td>\n",
       "      <td>0</td>\n",
       "      <td>0</td>\n",
       "      <td>0</td>\n",
       "      <td>0</td>\n",
       "      <td>0</td>\n",
       "      <td>0</td>\n",
       "      <td>0</td>\n",
       "      <td>0</td>\n",
       "      <td>0</td>\n",
       "      <td>...</td>\n",
       "      <td>0</td>\n",
       "      <td>0</td>\n",
       "      <td>0</td>\n",
       "      <td>0</td>\n",
       "      <td>0</td>\n",
       "      <td>0</td>\n",
       "      <td>0</td>\n",
       "      <td>1</td>\n",
       "      <td>0</td>\n",
       "      <td>0</td>\n",
       "    </tr>\n",
       "    <tr>\n",
       "      <th>p7258521_s3163710_v3.jpg</th>\n",
       "      <td>0</td>\n",
       "      <td>0</td>\n",
       "      <td>0</td>\n",
       "      <td>0</td>\n",
       "      <td>0</td>\n",
       "      <td>0</td>\n",
       "      <td>0</td>\n",
       "      <td>0</td>\n",
       "      <td>0</td>\n",
       "      <td>0</td>\n",
       "      <td>...</td>\n",
       "      <td>0</td>\n",
       "      <td>0</td>\n",
       "      <td>0</td>\n",
       "      <td>0</td>\n",
       "      <td>0</td>\n",
       "      <td>0</td>\n",
       "      <td>0</td>\n",
       "      <td>1</td>\n",
       "      <td>0</td>\n",
       "      <td>0</td>\n",
       "    </tr>\n",
       "    <tr>\n",
       "      <th>p7258521_s3163710_v4.jpg</th>\n",
       "      <td>0</td>\n",
       "      <td>0</td>\n",
       "      <td>0</td>\n",
       "      <td>0</td>\n",
       "      <td>0</td>\n",
       "      <td>0</td>\n",
       "      <td>0</td>\n",
       "      <td>0</td>\n",
       "      <td>0</td>\n",
       "      <td>0</td>\n",
       "      <td>...</td>\n",
       "      <td>0</td>\n",
       "      <td>0</td>\n",
       "      <td>0</td>\n",
       "      <td>0</td>\n",
       "      <td>0</td>\n",
       "      <td>0</td>\n",
       "      <td>0</td>\n",
       "      <td>1</td>\n",
       "      <td>0</td>\n",
       "      <td>0</td>\n",
       "    </tr>\n",
       "    <tr>\n",
       "      <th>p7258521_s3163713_v0.jpg</th>\n",
       "      <td>0</td>\n",
       "      <td>0</td>\n",
       "      <td>0</td>\n",
       "      <td>0</td>\n",
       "      <td>0</td>\n",
       "      <td>0</td>\n",
       "      <td>0</td>\n",
       "      <td>0</td>\n",
       "      <td>0</td>\n",
       "      <td>0</td>\n",
       "      <td>...</td>\n",
       "      <td>0</td>\n",
       "      <td>0</td>\n",
       "      <td>0</td>\n",
       "      <td>0</td>\n",
       "      <td>0</td>\n",
       "      <td>0</td>\n",
       "      <td>0</td>\n",
       "      <td>1</td>\n",
       "      <td>0</td>\n",
       "      <td>0</td>\n",
       "    </tr>\n",
       "    <tr>\n",
       "      <th>p7258521_s3163713_v1.jpg</th>\n",
       "      <td>0</td>\n",
       "      <td>0</td>\n",
       "      <td>0</td>\n",
       "      <td>0</td>\n",
       "      <td>0</td>\n",
       "      <td>0</td>\n",
       "      <td>0</td>\n",
       "      <td>0</td>\n",
       "      <td>0</td>\n",
       "      <td>0</td>\n",
       "      <td>...</td>\n",
       "      <td>0</td>\n",
       "      <td>0</td>\n",
       "      <td>0</td>\n",
       "      <td>0</td>\n",
       "      <td>0</td>\n",
       "      <td>0</td>\n",
       "      <td>0</td>\n",
       "      <td>1</td>\n",
       "      <td>0</td>\n",
       "      <td>0</td>\n",
       "    </tr>\n",
       "    <tr>\n",
       "      <th>p7258521_s3163713_v2.jpg</th>\n",
       "      <td>0</td>\n",
       "      <td>0</td>\n",
       "      <td>0</td>\n",
       "      <td>0</td>\n",
       "      <td>0</td>\n",
       "      <td>0</td>\n",
       "      <td>0</td>\n",
       "      <td>0</td>\n",
       "      <td>0</td>\n",
       "      <td>0</td>\n",
       "      <td>...</td>\n",
       "      <td>0</td>\n",
       "      <td>0</td>\n",
       "      <td>0</td>\n",
       "      <td>0</td>\n",
       "      <td>0</td>\n",
       "      <td>0</td>\n",
       "      <td>0</td>\n",
       "      <td>1</td>\n",
       "      <td>0</td>\n",
       "      <td>0</td>\n",
       "    </tr>\n",
       "    <tr>\n",
       "      <th>p7258521_s3163713_v3.jpg</th>\n",
       "      <td>0</td>\n",
       "      <td>0</td>\n",
       "      <td>0</td>\n",
       "      <td>0</td>\n",
       "      <td>0</td>\n",
       "      <td>0</td>\n",
       "      <td>0</td>\n",
       "      <td>0</td>\n",
       "      <td>0</td>\n",
       "      <td>0</td>\n",
       "      <td>...</td>\n",
       "      <td>0</td>\n",
       "      <td>0</td>\n",
       "      <td>0</td>\n",
       "      <td>0</td>\n",
       "      <td>0</td>\n",
       "      <td>0</td>\n",
       "      <td>0</td>\n",
       "      <td>1</td>\n",
       "      <td>0</td>\n",
       "      <td>0</td>\n",
       "    </tr>\n",
       "    <tr>\n",
       "      <th>p7258521_s3163713_v4.jpg</th>\n",
       "      <td>0</td>\n",
       "      <td>0</td>\n",
       "      <td>0</td>\n",
       "      <td>0</td>\n",
       "      <td>0</td>\n",
       "      <td>0</td>\n",
       "      <td>0</td>\n",
       "      <td>0</td>\n",
       "      <td>0</td>\n",
       "      <td>0</td>\n",
       "      <td>...</td>\n",
       "      <td>0</td>\n",
       "      <td>0</td>\n",
       "      <td>0</td>\n",
       "      <td>0</td>\n",
       "      <td>0</td>\n",
       "      <td>0</td>\n",
       "      <td>0</td>\n",
       "      <td>1</td>\n",
       "      <td>0</td>\n",
       "      <td>0</td>\n",
       "    </tr>\n",
       "  </tbody>\n",
       "</table>\n",
       "<p>10 rows × 264 columns</p>\n",
       "</div>"
      ],
      "text/plain": [
       "                          AlineDresses  AnimalPrint  Anoraks  Argyle  \\\n",
       "filename                                                               \n",
       "p7258521_s3163710_v0.jpg             0            0        0       0   \n",
       "p7258521_s3163710_v1.jpg             0            0        0       0   \n",
       "p7258521_s3163710_v2.jpg             0            0        0       0   \n",
       "p7258521_s3163710_v3.jpg             0            0        0       0   \n",
       "p7258521_s3163710_v4.jpg             0            0        0       0   \n",
       "p7258521_s3163713_v0.jpg             0            0        0       0   \n",
       "p7258521_s3163713_v1.jpg             0            0        0       0   \n",
       "p7258521_s3163713_v2.jpg             0            0        0       0   \n",
       "p7258521_s3163713_v3.jpg             0            0        0       0   \n",
       "p7258521_s3163713_v4.jpg             0            0        0       0   \n",
       "\n",
       "                          Asymmetrical  Athletic  BabyDollDresses  \\\n",
       "filename                                                            \n",
       "p7258521_s3163710_v0.jpg             0         0                0   \n",
       "p7258521_s3163710_v1.jpg             0         0                0   \n",
       "p7258521_s3163710_v2.jpg             0         0                0   \n",
       "p7258521_s3163710_v3.jpg             0         0                0   \n",
       "p7258521_s3163710_v4.jpg             0         0                0   \n",
       "p7258521_s3163713_v0.jpg             0         0                0   \n",
       "p7258521_s3163713_v1.jpg             0         0                0   \n",
       "p7258521_s3163713_v2.jpg             0         0                0   \n",
       "p7258521_s3163713_v3.jpg             0         0                0   \n",
       "p7258521_s3163713_v4.jpg             0         0                0   \n",
       "\n",
       "                          BalconetteBras  Bandeau  BandeauBras     ...      \\\n",
       "filename                                                           ...       \n",
       "p7258521_s3163710_v0.jpg               0        0            0     ...       \n",
       "p7258521_s3163710_v1.jpg               0        0            0     ...       \n",
       "p7258521_s3163710_v2.jpg               0        0            0     ...       \n",
       "p7258521_s3163710_v3.jpg               0        0            0     ...       \n",
       "p7258521_s3163710_v4.jpg               0        0            0     ...       \n",
       "p7258521_s3163713_v0.jpg               0        0            0     ...       \n",
       "p7258521_s3163713_v1.jpg               0        0            0     ...       \n",
       "p7258521_s3163713_v2.jpg               0        0            0     ...       \n",
       "p7258521_s3163713_v3.jpg               0        0            0     ...       \n",
       "p7258521_s3163713_v4.jpg               0        0            0     ...       \n",
       "\n",
       "                          Yellow  ZebraPrint  Zipper  fiftyU  halfZip  \\\n",
       "filename                                                                \n",
       "p7258521_s3163710_v0.jpg       0           0       0       0        0   \n",
       "p7258521_s3163710_v1.jpg       0           0       0       0        0   \n",
       "p7258521_s3163710_v2.jpg       0           0       0       0        0   \n",
       "p7258521_s3163710_v3.jpg       0           0       0       0        0   \n",
       "p7258521_s3163710_v4.jpg       0           0       0       0        0   \n",
       "p7258521_s3163713_v0.jpg       0           0       0       0        0   \n",
       "p7258521_s3163713_v1.jpg       0           0       0       0        0   \n",
       "p7258521_s3163713_v2.jpg       0           0       0       0        0   \n",
       "p7258521_s3163713_v3.jpg       0           0       0       0        0   \n",
       "p7258521_s3163713_v4.jpg       0           0       0       0        0   \n",
       "\n",
       "                          hundred1U  hundred2O  hundred2U  quarter3Zip  \\\n",
       "filename                                                                 \n",
       "p7258521_s3163710_v0.jpg          0          0          1            0   \n",
       "p7258521_s3163710_v1.jpg          0          0          1            0   \n",
       "p7258521_s3163710_v2.jpg          0          0          1            0   \n",
       "p7258521_s3163710_v3.jpg          0          0          1            0   \n",
       "p7258521_s3163710_v4.jpg          0          0          1            0   \n",
       "p7258521_s3163713_v0.jpg          0          0          1            0   \n",
       "p7258521_s3163713_v1.jpg          0          0          1            0   \n",
       "p7258521_s3163713_v2.jpg          0          0          1            0   \n",
       "p7258521_s3163713_v3.jpg          0          0          1            0   \n",
       "p7258521_s3163713_v4.jpg          0          0          1            0   \n",
       "\n",
       "                          quarterZip  \n",
       "filename                              \n",
       "p7258521_s3163710_v0.jpg           0  \n",
       "p7258521_s3163710_v1.jpg           0  \n",
       "p7258521_s3163710_v2.jpg           0  \n",
       "p7258521_s3163710_v3.jpg           0  \n",
       "p7258521_s3163710_v4.jpg           0  \n",
       "p7258521_s3163713_v0.jpg           0  \n",
       "p7258521_s3163713_v1.jpg           0  \n",
       "p7258521_s3163713_v2.jpg           0  \n",
       "p7258521_s3163713_v3.jpg           0  \n",
       "p7258521_s3163713_v4.jpg           0  \n",
       "\n",
       "[10 rows x 264 columns]"
      ]
     },
     "execution_count": 12,
     "metadata": {},
     "output_type": "execute_result"
    }
   ],
   "source": [
    "mvc_label = pd.read_csv( './mvc_label.csv', index_col='filename')\n",
    "mvc_label.head(10)"
   ]
  },
  {
   "cell_type": "code",
   "execution_count": 13,
   "metadata": {},
   "outputs": [
    {
     "data": {
      "text/plain": [
       "Index(['BalconetteBras', 'Bandeau', 'BandeauBras', 'Beige', 'Black', 'Blue',\n",
       "       'BoxerBriefs', 'Boxers', 'BoyShorts', 'BraletteBras', 'Bras', 'Brief',\n",
       "       'Bronze', 'Brown', 'Burgundy', 'Camis', 'Camisoles', 'Compression',\n",
       "       'CompressionBras', 'ConvertibleBras', 'Corset', 'Cotton',\n",
       "       'CoverUpDresses', 'CoverUps', 'Crosstraining', 'DemiBras',\n",
       "       'EnhancedBras', 'FullCoverageBras', 'Gold', 'Gray', 'Green', 'Hosiery',\n",
       "       'Lingerie', 'Mahogany', 'MinimizerBras', 'MoldedCupBras', 'NursingBras',\n",
       "       'Olive', 'OnePieceSwimsuits', 'Orange', 'PaddedBras', 'PajamaBottoms',\n",
       "       'PajamaSets', 'PajamaTops', 'Panties', 'Pink', 'PlungeBras', 'Purple',\n",
       "       'PushUpBras', 'Racerback', 'Red', 'Salomon', 'ShelfBras', 'Silver',\n",
       "       'Snow', 'SoftCupBras', 'SportsBras', 'StraplessBras', 'SwimDresses',\n",
       "       'SwimSets', 'SwimsuitBottoms', 'SwimsuitTops', 'Synthetic', 'Taupe',\n",
       "       'Thongs', 'UnderwireBras', 'WaterResistant', 'Waterproof', 'White',\n",
       "       'WindResistant', 'Windproof', 'Yellow', 'fiftyU', 'hundred1U',\n",
       "       'hundred2O', 'hundred2U', 'quarter3Zip'],\n",
       "      dtype='object')"
      ]
     },
     "execution_count": 13,
     "metadata": {},
     "output_type": "execute_result"
    }
   ],
   "source": [
    "cols=[8, 9, 10, 13, 14, 16, 21, 22, 23, 25, 26, 27, 29, 30, 31, 36, 37, 54, 55, 58, 61, 62, 63, 64, 72, 74, 80, 90, 92, 95, 96, 104, 112, 119, 123, 125, 126, 129, 131, 134, 136, 138, 139, 140, 141, 146, 151, 159, 160, 161, 165, 175, 182, 189, 195, 197, 199, 202, 208, 209, 210, 211, 212, 220, 222, 234, 241, 242, 244, 247, 248, 255, 258, 260, 261, 262, 263]\n",
    "new_cols=[idx-1 for idx in cols]\n",
    "mvc_label.columns[new_cols]"
   ]
  },
  {
   "cell_type": "code",
   "execution_count": 14,
   "metadata": {},
   "outputs": [
    {
     "data": {
      "text/html": [
       "<div>\n",
       "<style scoped>\n",
       "    .dataframe tbody tr th:only-of-type {\n",
       "        vertical-align: middle;\n",
       "    }\n",
       "\n",
       "    .dataframe tbody tr th {\n",
       "        vertical-align: top;\n",
       "    }\n",
       "\n",
       "    .dataframe thead th {\n",
       "        text-align: right;\n",
       "    }\n",
       "</style>\n",
       "<table border=\"1\" class=\"dataframe\">\n",
       "  <thead>\n",
       "    <tr style=\"text-align: right;\">\n",
       "      <th></th>\n",
       "      <th>AlineDresses</th>\n",
       "      <th>AnimalPrint</th>\n",
       "      <th>Anoraks</th>\n",
       "      <th>Argyle</th>\n",
       "      <th>Asymmetrical</th>\n",
       "      <th>Athletic</th>\n",
       "      <th>BabyDollDresses</th>\n",
       "      <th>Banded</th>\n",
       "      <th>Beaded</th>\n",
       "      <th>Blouses</th>\n",
       "      <th>...</th>\n",
       "      <th>Wool</th>\n",
       "      <th>Workout</th>\n",
       "      <th>WorkoutPants</th>\n",
       "      <th>WrapDresses</th>\n",
       "      <th>Wraps</th>\n",
       "      <th>WrinkleResistant</th>\n",
       "      <th>ZebraPrint</th>\n",
       "      <th>Zipper</th>\n",
       "      <th>halfZip</th>\n",
       "      <th>quarterZip</th>\n",
       "    </tr>\n",
       "    <tr>\n",
       "      <th>filename</th>\n",
       "      <th></th>\n",
       "      <th></th>\n",
       "      <th></th>\n",
       "      <th></th>\n",
       "      <th></th>\n",
       "      <th></th>\n",
       "      <th></th>\n",
       "      <th></th>\n",
       "      <th></th>\n",
       "      <th></th>\n",
       "      <th></th>\n",
       "      <th></th>\n",
       "      <th></th>\n",
       "      <th></th>\n",
       "      <th></th>\n",
       "      <th></th>\n",
       "      <th></th>\n",
       "      <th></th>\n",
       "      <th></th>\n",
       "      <th></th>\n",
       "      <th></th>\n",
       "    </tr>\n",
       "  </thead>\n",
       "  <tbody>\n",
       "    <tr>\n",
       "      <th>p8579450_s3280336_v5.jpg</th>\n",
       "      <td>0</td>\n",
       "      <td>0</td>\n",
       "      <td>0</td>\n",
       "      <td>0</td>\n",
       "      <td>0</td>\n",
       "      <td>0</td>\n",
       "      <td>0</td>\n",
       "      <td>0</td>\n",
       "      <td>0</td>\n",
       "      <td>0</td>\n",
       "      <td>...</td>\n",
       "      <td>0</td>\n",
       "      <td>0</td>\n",
       "      <td>0</td>\n",
       "      <td>0</td>\n",
       "      <td>0</td>\n",
       "      <td>0</td>\n",
       "      <td>0</td>\n",
       "      <td>0</td>\n",
       "      <td>0</td>\n",
       "      <td>0</td>\n",
       "    </tr>\n",
       "    <tr>\n",
       "      <th>p8588064_s3296331_v0.jpg</th>\n",
       "      <td>0</td>\n",
       "      <td>0</td>\n",
       "      <td>0</td>\n",
       "      <td>0</td>\n",
       "      <td>0</td>\n",
       "      <td>0</td>\n",
       "      <td>0</td>\n",
       "      <td>0</td>\n",
       "      <td>1</td>\n",
       "      <td>0</td>\n",
       "      <td>...</td>\n",
       "      <td>0</td>\n",
       "      <td>0</td>\n",
       "      <td>0</td>\n",
       "      <td>0</td>\n",
       "      <td>0</td>\n",
       "      <td>0</td>\n",
       "      <td>0</td>\n",
       "      <td>0</td>\n",
       "      <td>0</td>\n",
       "      <td>0</td>\n",
       "    </tr>\n",
       "    <tr>\n",
       "      <th>p8298500_s2624672_v4.jpg</th>\n",
       "      <td>0</td>\n",
       "      <td>0</td>\n",
       "      <td>0</td>\n",
       "      <td>0</td>\n",
       "      <td>0</td>\n",
       "      <td>0</td>\n",
       "      <td>0</td>\n",
       "      <td>0</td>\n",
       "      <td>0</td>\n",
       "      <td>0</td>\n",
       "      <td>...</td>\n",
       "      <td>0</td>\n",
       "      <td>0</td>\n",
       "      <td>0</td>\n",
       "      <td>0</td>\n",
       "      <td>0</td>\n",
       "      <td>0</td>\n",
       "      <td>0</td>\n",
       "      <td>0</td>\n",
       "      <td>0</td>\n",
       "      <td>0</td>\n",
       "    </tr>\n",
       "    <tr>\n",
       "      <th>p8565811_s3251029_v1.jpg</th>\n",
       "      <td>0</td>\n",
       "      <td>0</td>\n",
       "      <td>0</td>\n",
       "      <td>0</td>\n",
       "      <td>0</td>\n",
       "      <td>0</td>\n",
       "      <td>0</td>\n",
       "      <td>0</td>\n",
       "      <td>0</td>\n",
       "      <td>0</td>\n",
       "      <td>...</td>\n",
       "      <td>0</td>\n",
       "      <td>0</td>\n",
       "      <td>0</td>\n",
       "      <td>0</td>\n",
       "      <td>0</td>\n",
       "      <td>0</td>\n",
       "      <td>0</td>\n",
       "      <td>0</td>\n",
       "      <td>0</td>\n",
       "      <td>0</td>\n",
       "    </tr>\n",
       "    <tr>\n",
       "      <th>p8645109_s3429875_v3.jpg</th>\n",
       "      <td>0</td>\n",
       "      <td>0</td>\n",
       "      <td>0</td>\n",
       "      <td>0</td>\n",
       "      <td>0</td>\n",
       "      <td>0</td>\n",
       "      <td>0</td>\n",
       "      <td>0</td>\n",
       "      <td>0</td>\n",
       "      <td>0</td>\n",
       "      <td>...</td>\n",
       "      <td>0</td>\n",
       "      <td>0</td>\n",
       "      <td>0</td>\n",
       "      <td>0</td>\n",
       "      <td>0</td>\n",
       "      <td>0</td>\n",
       "      <td>0</td>\n",
       "      <td>0</td>\n",
       "      <td>0</td>\n",
       "      <td>0</td>\n",
       "    </tr>\n",
       "    <tr>\n",
       "      <th>p8557110_s3228756_v1.jpg</th>\n",
       "      <td>0</td>\n",
       "      <td>0</td>\n",
       "      <td>0</td>\n",
       "      <td>0</td>\n",
       "      <td>0</td>\n",
       "      <td>0</td>\n",
       "      <td>0</td>\n",
       "      <td>0</td>\n",
       "      <td>0</td>\n",
       "      <td>0</td>\n",
       "      <td>...</td>\n",
       "      <td>0</td>\n",
       "      <td>0</td>\n",
       "      <td>0</td>\n",
       "      <td>0</td>\n",
       "      <td>0</td>\n",
       "      <td>0</td>\n",
       "      <td>0</td>\n",
       "      <td>0</td>\n",
       "      <td>0</td>\n",
       "      <td>0</td>\n",
       "    </tr>\n",
       "    <tr>\n",
       "      <th>p7595977_s1036806_v2.jpg</th>\n",
       "      <td>0</td>\n",
       "      <td>0</td>\n",
       "      <td>0</td>\n",
       "      <td>0</td>\n",
       "      <td>0</td>\n",
       "      <td>1</td>\n",
       "      <td>0</td>\n",
       "      <td>0</td>\n",
       "      <td>0</td>\n",
       "      <td>0</td>\n",
       "      <td>...</td>\n",
       "      <td>0</td>\n",
       "      <td>1</td>\n",
       "      <td>0</td>\n",
       "      <td>0</td>\n",
       "      <td>0</td>\n",
       "      <td>0</td>\n",
       "      <td>0</td>\n",
       "      <td>0</td>\n",
       "      <td>0</td>\n",
       "      <td>0</td>\n",
       "    </tr>\n",
       "    <tr>\n",
       "      <th>p7695245_s3323359_v3.jpg</th>\n",
       "      <td>0</td>\n",
       "      <td>0</td>\n",
       "      <td>0</td>\n",
       "      <td>0</td>\n",
       "      <td>0</td>\n",
       "      <td>0</td>\n",
       "      <td>0</td>\n",
       "      <td>0</td>\n",
       "      <td>0</td>\n",
       "      <td>0</td>\n",
       "      <td>...</td>\n",
       "      <td>0</td>\n",
       "      <td>0</td>\n",
       "      <td>0</td>\n",
       "      <td>0</td>\n",
       "      <td>0</td>\n",
       "      <td>0</td>\n",
       "      <td>0</td>\n",
       "      <td>0</td>\n",
       "      <td>0</td>\n",
       "      <td>0</td>\n",
       "    </tr>\n",
       "    <tr>\n",
       "      <th>p8547933_s3207561_v0.jpg</th>\n",
       "      <td>0</td>\n",
       "      <td>0</td>\n",
       "      <td>0</td>\n",
       "      <td>0</td>\n",
       "      <td>0</td>\n",
       "      <td>0</td>\n",
       "      <td>0</td>\n",
       "      <td>0</td>\n",
       "      <td>0</td>\n",
       "      <td>0</td>\n",
       "      <td>...</td>\n",
       "      <td>0</td>\n",
       "      <td>1</td>\n",
       "      <td>0</td>\n",
       "      <td>0</td>\n",
       "      <td>0</td>\n",
       "      <td>0</td>\n",
       "      <td>0</td>\n",
       "      <td>0</td>\n",
       "      <td>0</td>\n",
       "      <td>0</td>\n",
       "    </tr>\n",
       "    <tr>\n",
       "      <th>p8538773_s3182949_v1.jpg</th>\n",
       "      <td>0</td>\n",
       "      <td>0</td>\n",
       "      <td>0</td>\n",
       "      <td>0</td>\n",
       "      <td>0</td>\n",
       "      <td>0</td>\n",
       "      <td>0</td>\n",
       "      <td>0</td>\n",
       "      <td>0</td>\n",
       "      <td>0</td>\n",
       "      <td>...</td>\n",
       "      <td>1</td>\n",
       "      <td>0</td>\n",
       "      <td>0</td>\n",
       "      <td>0</td>\n",
       "      <td>0</td>\n",
       "      <td>0</td>\n",
       "      <td>0</td>\n",
       "      <td>0</td>\n",
       "      <td>0</td>\n",
       "      <td>0</td>\n",
       "    </tr>\n",
       "  </tbody>\n",
       "</table>\n",
       "<p>10 rows × 187 columns</p>\n",
       "</div>"
      ],
      "text/plain": [
       "                          AlineDresses  AnimalPrint  Anoraks  Argyle  \\\n",
       "filename                                                               \n",
       "p8579450_s3280336_v5.jpg             0            0        0       0   \n",
       "p8588064_s3296331_v0.jpg             0            0        0       0   \n",
       "p8298500_s2624672_v4.jpg             0            0        0       0   \n",
       "p8565811_s3251029_v1.jpg             0            0        0       0   \n",
       "p8645109_s3429875_v3.jpg             0            0        0       0   \n",
       "p8557110_s3228756_v1.jpg             0            0        0       0   \n",
       "p7595977_s1036806_v2.jpg             0            0        0       0   \n",
       "p7695245_s3323359_v3.jpg             0            0        0       0   \n",
       "p8547933_s3207561_v0.jpg             0            0        0       0   \n",
       "p8538773_s3182949_v1.jpg             0            0        0       0   \n",
       "\n",
       "                          Asymmetrical  Athletic  BabyDollDresses  Banded  \\\n",
       "filename                                                                    \n",
       "p8579450_s3280336_v5.jpg             0         0                0       0   \n",
       "p8588064_s3296331_v0.jpg             0         0                0       0   \n",
       "p8298500_s2624672_v4.jpg             0         0                0       0   \n",
       "p8565811_s3251029_v1.jpg             0         0                0       0   \n",
       "p8645109_s3429875_v3.jpg             0         0                0       0   \n",
       "p8557110_s3228756_v1.jpg             0         0                0       0   \n",
       "p7595977_s1036806_v2.jpg             0         1                0       0   \n",
       "p7695245_s3323359_v3.jpg             0         0                0       0   \n",
       "p8547933_s3207561_v0.jpg             0         0                0       0   \n",
       "p8538773_s3182949_v1.jpg             0         0                0       0   \n",
       "\n",
       "                          Beaded  Blouses     ...      Wool  Workout  \\\n",
       "filename                                      ...                      \n",
       "p8579450_s3280336_v5.jpg       0        0     ...         0        0   \n",
       "p8588064_s3296331_v0.jpg       1        0     ...         0        0   \n",
       "p8298500_s2624672_v4.jpg       0        0     ...         0        0   \n",
       "p8565811_s3251029_v1.jpg       0        0     ...         0        0   \n",
       "p8645109_s3429875_v3.jpg       0        0     ...         0        0   \n",
       "p8557110_s3228756_v1.jpg       0        0     ...         0        0   \n",
       "p7595977_s1036806_v2.jpg       0        0     ...         0        1   \n",
       "p7695245_s3323359_v3.jpg       0        0     ...         0        0   \n",
       "p8547933_s3207561_v0.jpg       0        0     ...         0        1   \n",
       "p8538773_s3182949_v1.jpg       0        0     ...         1        0   \n",
       "\n",
       "                          WorkoutPants  WrapDresses  Wraps  WrinkleResistant  \\\n",
       "filename                                                                       \n",
       "p8579450_s3280336_v5.jpg             0            0      0                 0   \n",
       "p8588064_s3296331_v0.jpg             0            0      0                 0   \n",
       "p8298500_s2624672_v4.jpg             0            0      0                 0   \n",
       "p8565811_s3251029_v1.jpg             0            0      0                 0   \n",
       "p8645109_s3429875_v3.jpg             0            0      0                 0   \n",
       "p8557110_s3228756_v1.jpg             0            0      0                 0   \n",
       "p7595977_s1036806_v2.jpg             0            0      0                 0   \n",
       "p7695245_s3323359_v3.jpg             0            0      0                 0   \n",
       "p8547933_s3207561_v0.jpg             0            0      0                 0   \n",
       "p8538773_s3182949_v1.jpg             0            0      0                 0   \n",
       "\n",
       "                          ZebraPrint  Zipper  halfZip  quarterZip  \n",
       "filename                                                           \n",
       "p8579450_s3280336_v5.jpg           0       0        0           0  \n",
       "p8588064_s3296331_v0.jpg           0       0        0           0  \n",
       "p8298500_s2624672_v4.jpg           0       0        0           0  \n",
       "p8565811_s3251029_v1.jpg           0       0        0           0  \n",
       "p8645109_s3429875_v3.jpg           0       0        0           0  \n",
       "p8557110_s3228756_v1.jpg           0       0        0           0  \n",
       "p7595977_s1036806_v2.jpg           0       0        0           0  \n",
       "p7695245_s3323359_v3.jpg           0       0        0           0  \n",
       "p8547933_s3207561_v0.jpg           0       0        0           0  \n",
       "p8538773_s3182949_v1.jpg           0       0        0           0  \n",
       "\n",
       "[10 rows x 187 columns]"
      ]
     },
     "execution_count": 14,
     "metadata": {},
     "output_type": "execute_result"
    }
   ],
   "source": [
    "mvc_label.drop(mvc_label.columns[new_cols],axis=1,inplace=True)\n",
    "mvc_label.sample(10)"
   ]
  },
  {
   "cell_type": "code",
   "execution_count": 15,
   "metadata": {},
   "outputs": [],
   "source": [
    "y_train = np.array([mvc_label.loc[label] for label in y_train])\n",
    "y_val   = np.array([mvc_label.loc[label] for label in y_val])"
   ]
  },
  {
   "cell_type": "code",
   "execution_count": 16,
   "metadata": {},
   "outputs": [
    {
     "data": {
      "text/plain": [
       "(145134, 187)"
      ]
     },
     "execution_count": 16,
     "metadata": {},
     "output_type": "execute_result"
    }
   ],
   "source": [
    "y_train.shape"
   ]
  },
  {
   "cell_type": "code",
   "execution_count": 17,
   "metadata": {},
   "outputs": [
    {
     "data": {
      "text/plain": [
       "(16126, 187)"
      ]
     },
     "execution_count": 17,
     "metadata": {},
     "output_type": "execute_result"
    }
   ],
   "source": [
    "y_val.shape"
   ]
  },
  {
   "cell_type": "code",
   "execution_count": 18,
   "metadata": {},
   "outputs": [],
   "source": [
    "np.savez_compressed('./mvc_train_kor', x_train=x_train, y_train=y_train)\n",
    "np.savez_compressed('./mvc_valid_kor', x_val=x_val, y_val=y_val)"
   ]
  },
  {
   "cell_type": "code",
   "execution_count": 19,
   "metadata": {},
   "outputs": [
    {
     "name": "stdout",
     "output_type": "stream",
     "text": [
      "Validation examples: 16126\n",
      "Y val examples: 16126\n",
      "Train examples: 145134\n",
      "Y examples: 145134\n"
     ]
    }
   ],
   "source": [
    "print(\"Validation examples:\", len(x_val))\n",
    "print(\"Y val examples:\", len(y_val))\n",
    "print(\"Train examples:\", len(x_train))\n",
    "print(\"Y examples:\", len(y_train))"
   ]
  },
  {
   "cell_type": "code",
   "execution_count": 20,
   "metadata": {},
   "outputs": [],
   "source": [
    "# Plotting on keras training\n",
    "# https://github.com/stared/livelossplot/\n",
    "from IPython.display import clear_output\n",
    "class PlotLearning(keras.callbacks.Callback):\n",
    "    def on_train_begin(self, logs={}):\n",
    "        self.i = 0\n",
    "        self.x = []\n",
    "        self.losses = []\n",
    "        self.val_losses = []\n",
    "        self.acc = []\n",
    "        self.val_acc = []\n",
    "        self.fig = plt.figure()\n",
    "        \n",
    "        self.logs = []\n",
    "\n",
    "    def on_epoch_end(self, epoch, logs={}):\n",
    "        \n",
    "        self.logs.append(logs)\n",
    "        self.x.append(self.i)\n",
    "        self.losses.append(logs.get('loss'))\n",
    "        self.val_losses.append(logs.get('val_loss'))\n",
    "        self.acc.append(logs.get('acc'))\n",
    "        self.val_acc.append(logs.get('val_acc'))\n",
    "        self.i += 1\n",
    "        f, (ax1, ax2) = plt.subplots(1, 2, sharex=True, figsize=(12,4))\n",
    "        \n",
    "        clear_output(wait=True)\n",
    "        \n",
    "        ax1.set_yscale('log')\n",
    "        ax1.plot(self.x, self.losses, label=\"train loss\")\n",
    "        ax1.plot(self.x, self.val_losses, label=\"validation loss\")\n",
    "        ax1.legend()\n",
    "        ax1.set_title(\"Loss Curves\")\n",
    "        ax1.set_ylabel(\"Loss\")\n",
    "        ax1.set_xlabel(\"Epochs\")\n",
    "        \n",
    "        ax2.plot(self.x, self.acc, label=\"train accuracy\")\n",
    "        ax2.plot(self.x, self.val_acc, label=\"validation accuracy\")\n",
    "        ax2.legend()\n",
    "        ax2.set_title(\"Accuracy Curves\")\n",
    "        ax2.set_ylabel(\"Accuracy\")\n",
    "        ax2.set_xlabel(\"Epochs\")\n",
    "        \n",
    "        plt.show();\n",
    "\n",
    "plot_losses = PlotLearning()"
   ]
  },
  {
   "cell_type": "code",
   "execution_count": 21,
   "metadata": {},
   "outputs": [
    {
     "name": "stdout",
     "output_type": "stream",
     "text": [
      "_________________________________________________________________\n",
      "Layer (type)                 Output Shape              Param #   \n",
      "=================================================================\n",
      "dense_1 (Dense)              (None, 1024)              4424704   \n",
      "_________________________________________________________________\n",
      "activation_1 (Activation)    (None, 1024)              0         \n",
      "_________________________________________________________________\n",
      "batch_normalization_1 (Batch (None, 1024)              4096      \n",
      "_________________________________________________________________\n",
      "dropout_1 (Dropout)          (None, 1024)              0         \n",
      "_________________________________________________________________\n",
      "dense_2 (Dense)              (None, 187)               191675    \n",
      "=================================================================\n",
      "Total params: 4,620,475\n",
      "Trainable params: 4,618,427\n",
      "Non-trainable params: 2,048\n",
      "_________________________________________________________________\n"
     ]
    }
   ],
   "source": [
    "model = Sequential()\n",
    "model.add(Dense(1024, input_dim=x_train.shape[1]))\n",
    "model.add(Activation('relu'))\n",
    "model.add(BatchNormalization())\n",
    "model.add(Dropout(0.5))\n",
    "model.add(Dense(y_train.shape[1], activation='sigmoid'))\n",
    "model.compile(loss='binary_crossentropy', optimizer='adam', metrics=['accuracy'])\n",
    "\n",
    "#model.add(Dense(5, activation='softmax'))\n",
    "#model.add(GlobalAveragePooling2D(input_dim=x_train.shape[1:]))\n",
    "#model.add(Dense(5 , activation='softmax'))\n",
    "model.summary()"
   ]
  },
  {
   "cell_type": "markdown",
   "metadata": {},
   "source": [
    "https://github.com/suhongs/dog-project/blob/master/dog_app.ipynb"
   ]
  },
  {
   "cell_type": "code",
   "execution_count": 24,
   "metadata": {},
   "outputs": [
    {
     "data": {
      "image/png": "[encoded data removed]",
      "text/plain": [
       "<Figure size 864x288 with 2 Axes>"
      ]
     },
     "metadata": {},
     "output_type": "display_data"
    }
   ],
   "source": [
    "filepath=\"./model/hub_kr/weights-improvement-{epoch:02d}-l_{val_loss:.4f}-{loss:.4f}_-ac_{val_acc:.4f}.hdf5\"\n",
    "mc_top = ModelCheckpoint(filepath,\n",
    "                         monitor='val_loss', verbose=0,\n",
    "                         save_best_only=True,\n",
    "                         save_weights_only=False,\n",
    "                         mode='auto', period=1)\n",
    "\n",
    "\n",
    "history = model.fit(x_train, y_train, validation_data=(x_val, y_val), epochs=20,\n",
    "                    batch_size=1024, callbacks=[mc_top, plot_losses], verbose=1)"
   ]
  },
  {
   "cell_type": "code",
   "execution_count": 25,
   "metadata": {},
   "outputs": [
    {
     "name": "stdout",
     "output_type": "stream",
     "text": [
      "Accuracy 0.987921654405\n"
     ]
    }
   ],
   "source": [
    "preds = model.predict(x_val)\n",
    "preds[preds>=0.5] = 1\n",
    "preds[preds<0.5] = 0\n",
    "\n",
    "result = preds.reshape(-1) == y_val.reshape(-1)\n",
    "acc_on_test = sum(result)/len(result)\n",
    "print(\"Accuracy\", acc_on_test)"
   ]
  },
  {
   "cell_type": "code",
   "execution_count": 26,
   "metadata": {},
   "outputs": [
    {
     "name": "stdout",
     "output_type": "stream",
     "text": [
      "./model/hub_kr/weights-improvement-06-l_0.0349-0.0363_-ac_0.9869.hdf5\n"
     ]
    },
    {
     "name": "stderr",
     "output_type": "stream",
     "text": [
      "/opt/conda/lib/python3.6/site-packages/sklearn/metrics/classification.py:1135: UndefinedMetricWarning: F-score is ill-defined and being set to 0.0 in samples with no predicted labels.\n",
      "  'precision', 'predicted', average, warn_for)\n",
      "/opt/conda/lib/python3.6/site-packages/sklearn/metrics/classification.py:1137: UndefinedMetricWarning: F-score is ill-defined and being set to 0.0 in samples with no true labels.\n",
      "  'recall', 'true', average, warn_for)\n"
     ]
    },
    {
     "name": "stdout",
     "output_type": "stream",
     "text": [
      "Scores: [0.03487265680267581, 0.98693377774568702] F1: 0.586361732873\n",
      "-\n",
      "\n",
      "./model/hub_kr/weights-improvement-01-l_0.0401-0.0425_-ac_0.9857.hdf5\n",
      "Scores: [0.04011099011816651, 0.9857379835813731] F1: 0.52492136903\n",
      "-\n",
      "\n",
      "./model/hub_kr/weights-improvement-11-l_0.0334-0.0339_-ac_0.9875.hdf5\n",
      "Scores: [0.033355673757057974, 0.98746336400915458] F1: 0.621300396225\n",
      "-\n",
      "\n",
      "./model/hub_kr/weights-improvement-07-l_0.0345-0.0357_-ac_0.9871.hdf5\n",
      "Scores: [0.034527525916773216, 0.98705150173154843] F1: 0.600031065283\n",
      "-\n",
      "\n",
      "./model/hub_kr/weights-improvement-10-l_0.0338-0.0343_-ac_0.9873.hdf5\n",
      "Scores: [0.033770566875962617, 0.98727534059169464] F1: 0.613057820017\n",
      "-\n",
      "\n",
      "./model/hub_kr/weights-improvement-14-l_0.0326-0.0328_-ac_0.9877.hdf5\n",
      "Scores: [0.032626092872851155, 0.98772732937704111] F1: 0.623457723881\n",
      "-\n",
      "\n",
      "./model/hub_kr/weights-improvement-05-l_0.0353-0.0369_-ac_0.9869.hdf5\n",
      "Scores: [0.035299607277568881, 0.98687209952015087] F1: 0.596319206449\n",
      "-\n",
      "\n",
      "./model/hub_kr/weights-improvement-04-l_0.0361-0.0377_-ac_0.9867.hdf5\n",
      "Scores: [0.036054798978150192, 0.98667280243449329] F1: 0.596283181135\n",
      "-\n",
      "\n",
      "./model/hub_kr/weights-improvement-02-l_0.0381-0.0402_-ac_0.9861.hdf5\n",
      "Scores: [0.038122213794315601, 0.98610441654857739] F1: 0.547736572063\n",
      "-\n",
      "\n",
      "./model/hub_kr/weights-improvement-12-l_0.0330-0.0335_-ac_0.9875.hdf5\n",
      "Scores: [0.033046615156968225, 0.98754759408782145] F1: 0.622236886955\n",
      "-\n",
      "\n",
      "./model/hub_kr/weights-improvement-16-l_0.0321-0.0322_-ac_0.9878.hdf5\n",
      "Scores: [0.032078351606707869, 0.98780625165580715] F1: 0.629458967043\n",
      "-\n",
      "\n",
      "./model/hub_kr/weights-improvement-08-l_0.0341-0.0351_-ac_0.9872.hdf5\n",
      "Scores: [0.034109240256662954, 0.98720735956861705] F1: 0.607523790906\n",
      "-\n",
      "\n",
      "./model/hub_kr/weights-improvement-20-l_0.0317-0.0311_-ac_0.9879.hdf5\n",
      "Scores: [0.031656038197424831, 0.98792165255378028] F1: 0.631514170051\n",
      "-\n",
      "\n",
      "./model/hub_kr/weights-improvement-09-l_0.0338-0.0347_-ac_0.9873.hdf5\n",
      "Scores: [0.033784205092593764, 0.98734862401085366] F1: 0.616208762167\n",
      "-\n",
      "\n",
      "./model/hub_kr/weights-improvement-19-l_0.0320-0.0314_-ac_0.9878.hdf5\n",
      "Scores: [0.032034344006476236, 0.98780990103020583] F1: 0.628334788376\n",
      "-\n",
      "\n",
      "./model/hub_kr/weights-improvement-13-l_0.0327-0.0332_-ac_0.9877.hdf5\n",
      "Scores: [0.032733271535821874, 0.9876805721833779] F1: 0.629268737623\n",
      "-\n",
      "\n",
      "./model/hub_kr/weights-improvement-03-l_0.0367-0.0388_-ac_0.9865.hdf5\n",
      "Scores: [0.03673775301989559, 0.98653219443433238] F1: 0.585676848389\n",
      "-\n",
      "\n"
     ]
    }
   ],
   "source": [
    "for weights in glob.glob('./model/hub_kr/*weights-improvement*.hdf5'):\n",
    "    print(weights)\n",
    "    model.load_weights(weights)\n",
    "    model.compile(loss='binary_crossentropy', optimizer='adam', metrics=['accuracy'])\n",
    "    scores = model.evaluate(x_val, y_val, verbose=0)\n",
    "    y_pred = model.predict(x_val)\n",
    "    y_pred[y_pred>=0.5] = 1\n",
    "    y_pred[y_pred<0.5] = 0\n",
    "    f1_value = f1_score(y_val, y_pred, average='samples')\n",
    "    print(\"Scores:\", scores, \"F1:\", f1_value)\n",
    "    print(\"-\\n\")"
   ]
  },
  {
   "cell_type": "code",
   "execution_count": 27,
   "metadata": {},
   "outputs": [],
   "source": [
    "attr=pd.Series(mvc_label.columns.values)"
   ]
  },
  {
   "cell_type": "code",
   "execution_count": 308,
   "metadata": {},
   "outputs": [
    {
     "data": {
      "text/plain": [
       "16126"
      ]
     },
     "execution_count": 308,
     "metadata": {},
     "output_type": "execute_result"
    }
   ],
   "source": [
    "val_bottles = glob.glob('./hub_dataset/validation/*.txt')\n",
    "x_val.shape[0]"
   ]
  },
  {
   "cell_type": "code",
   "execution_count": 309,
   "metadata": {},
   "outputs": [
    {
     "data": {
      "text/plain": [
       "16126"
      ]
     },
     "execution_count": 309,
     "metadata": {},
     "output_type": "execute_result"
    }
   ],
   "source": [
    "len(val_bottles)"
   ]
  },
  {
   "cell_type": "code",
   "execution_count": 579,
   "metadata": {},
   "outputs": [
    {
     "name": "stdout",
     "output_type": "stream",
     "text": [
      "./rename/p8512602_s3123909_v3.jpg\n"
     ]
    }
   ],
   "source": [
    "i = random.randint(0, x_val.shape[0])\n",
    "im_path = val_bottles[i].replace(file_tail, \"\").replace(\"hub_dataset/validation/\", \"rename/\")\n",
    "print(im_path)\n",
    "pred = model.predict(x_val[i:i+1])\n",
    "indexes = np.where(pred[0,:] > 0.5)"
   ]
  },
  {
   "cell_type": "code",
   "execution_count": 580,
   "metadata": {},
   "outputs": [
    {
     "data": {
      "text/plain": [
       "53     FieldJacket\n",
       "81     LongSleeves\n",
       "108      Polyester\n",
       "dtype: object"
      ]
     },
     "execution_count": 580,
     "metadata": {},
     "output_type": "execute_result"
    }
   ],
   "source": [
    "attr.iloc[indexes]"
   ]
  },
  {
   "cell_type": "code",
   "execution_count": 581,
   "metadata": {},
   "outputs": [
    {
     "data": {
      "text/plain": [
       "53     FieldJacket\n",
       "81     LongSleeves\n",
       "108      Polyester\n",
       "112      RainCoats\n",
       "dtype: object"
      ]
     },
     "execution_count": 581,
     "metadata": {},
     "output_type": "execute_result"
    }
   ],
   "source": [
    "actual_idx = np.where(y_val[i] > 0)[0]\n",
    "attr.iloc[actual_idx]"
   ]
  },
  {
   "cell_type": "code",
   "execution_count": 582,
   "metadata": {},
   "outputs": [
    {
     "data": {
      "image/jpeg": "[encoded data removed]",
      "text/plain": [
       "<IPython.core.display.Image object>"
      ]
     },
     "execution_count": 582,
     "metadata": {},
     "output_type": "execute_result"
    }
   ],
   "source": [
    "from IPython.display import Image\n",
    "Image(im_path)"
   ]
  },
  {
   "cell_type": "code",
   "execution_count": 588,
   "metadata": {},
   "outputs": [],
   "source": [
    "showfit = np.load('../showfit/showfit_exclude_val.npz')"
   ]
  },
  {
   "cell_type": "code",
   "execution_count": 589,
   "metadata": {},
   "outputs": [],
   "source": [
    "shofit_x = showfit['x_val']\n",
    "shofit_y = showfit['y_val']"
   ]
  },
  {
   "cell_type": "code",
   "execution_count": 590,
   "metadata": {},
   "outputs": [
    {
     "data": {
      "text/plain": [
       "15328"
      ]
     },
     "execution_count": 590,
     "metadata": {},
     "output_type": "execute_result"
    }
   ],
   "source": [
    "showfit_bottles = glob.glob('../showfit/hub_dataset/validation/*/*.txt')\n",
    "shofit_x.shape[0]"
   ]
  },
  {
   "cell_type": "code",
   "execution_count": 804,
   "metadata": {},
   "outputs": [
    {
     "name": "stdout",
     "output_type": "stream",
     "text": [
      "../showfit/data/DRESS/16453_1_0.jpg\n"
     ]
    }
   ],
   "source": [
    "i = random.randint(0, shofit_x.shape[0])\n",
    "im_path = showfit_bottles[i].replace(file_tail, \"\").replace(\"../showfit/hub_dataset/validation/\", \"../showfit/data/\")\n",
    "print(im_path)\n",
    "pred = model.predict(shofit_x[i:i+1])\n",
    "indexes = np.where(pred[0,:] > 0.5)"
   ]
  },
  {
   "cell_type": "code",
   "execution_count": 805,
   "metadata": {},
   "outputs": [
    {
     "data": {
      "text/plain": [
       "Series([], dtype: object)"
      ]
     },
     "execution_count": 805,
     "metadata": {},
     "output_type": "execute_result"
    }
   ],
   "source": [
    "showfit_pred = model.predict(shofit_x[i:i+1])\n",
    "indexes = np.where(showfit_pred[0,:] > 0.5)\n",
    "attr.iloc[indexes]"
   ]
  },
  {
   "cell_type": "code",
   "execution_count": 806,
   "metadata": {},
   "outputs": [
    {
     "data": {
      "image/jpeg": "[encoded data removed]",
      "text/plain": [
       "<IPython.core.display.Image object>"
      ]
     },
     "execution_count": 806,
     "metadata": {},
     "output_type": "execute_result"
    }
   ],
   "source": [
    "Image(im_path)"
   ]
  },
  {
   "cell_type": "code",
   "execution_count": null,
   "metadata": {},
   "outputs": [],
   "source": []
  }
 ],
 "metadata": {
  "kernelspec": {
   "display_name": "Python 3",
   "language": "python",
   "name": "python3"
  },
  "language_info": {
   "codemirror_mode": {
    "name": "ipython",
    "version": 3
   },
   "file_extension": ".py",
   "mimetype": "text/x-python",
   "name": "python",
   "nbconvert_exporter": "python",
   "pygments_lexer": "ipython3",
   "version": "3.6.8"
  }
 },
 "nbformat": 4,
 "nbformat_minor": 2
}
