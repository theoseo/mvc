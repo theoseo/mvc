{
 "cells": [
  {
   "cell_type": "markdown",
   "metadata": {},
   "source": [
    "## Changed Model archietecter to two conv1x1 cnn\n",
    "\n",
    "Test 1\n",
    "conv1x1(512)->conv1x1(27)->global_avg_pool ->flatten(27)\n",
    "image flop only horizontoal \n",
    "Test 78%\n"
   ]
  },
  {
   "cell_type": "code",
   "execution_count": 1,
   "metadata": {},
   "outputs": [
    {
     "data": {
      "text/plain": [
       "'1.14.0'"
      ]
     },
     "execution_count": 1,
     "metadata": {},
     "output_type": "execute_result"
    }
   ],
   "source": [
    "from __future__ import absolute_import, division, print_function, unicode_literals\n",
    "\n",
    "import tensorflow as tf\n",
    "tf.enable_eager_execution()\n",
    "tf.__version__"
   ]
  },
  {
   "cell_type": "code",
   "execution_count": 2,
   "metadata": {},
   "outputs": [],
   "source": [
    "import pandas as pd\n",
    "\n",
    "train_df = pd.read_pickle('./mvc_train.pkl')\n",
    "test_df = pd.read_pickle('./mvc_test.pkl')"
   ]
  },
  {
   "cell_type": "code",
   "execution_count": 3,
   "metadata": {},
   "outputs": [
    {
     "data": {
      "text/html": [
       "<div>\n",
       "<style scoped>\n",
       "    .dataframe tbody tr th:only-of-type {\n",
       "        vertical-align: middle;\n",
       "    }\n",
       "\n",
       "    .dataframe tbody tr th {\n",
       "        vertical-align: top;\n",
       "    }\n",
       "\n",
       "    .dataframe thead th {\n",
       "        text-align: right;\n",
       "    }\n",
       "</style>\n",
       "<table border=\"1\" class=\"dataframe\">\n",
       "  <thead>\n",
       "    <tr style=\"text-align: right;\">\n",
       "      <th></th>\n",
       "      <th>filename</th>\n",
       "      <th>attributes</th>\n",
       "    </tr>\n",
       "  </thead>\n",
       "  <tbody>\n",
       "    <tr>\n",
       "      <th>1779</th>\n",
       "      <td>category/Pants/p8652936_s3446722_v2.jpg</td>\n",
       "      <td>[0, 0, 0, 0, 0, 0, 0, 0, 0, 0, 0, 0, 0, 0, 0, ...</td>\n",
       "    </tr>\n",
       "    <tr>\n",
       "      <th>61400</th>\n",
       "      <td>category/Coats_Outerwear/p8620072_s3365471_v2.jpg</td>\n",
       "      <td>[0, 0, 0, 0, 0, 0, 0, 0, 0, 0, 0, 1, 0, 0, 0, ...</td>\n",
       "    </tr>\n",
       "    <tr>\n",
       "      <th>62479</th>\n",
       "      <td>category/Coats_Outerwear/p8326527_s3170110_v2.jpg</td>\n",
       "      <td>[0, 0, 0, 0, 0, 0, 0, 0, 0, 0, 0, 0, 0, 0, 0, ...</td>\n",
       "    </tr>\n",
       "    <tr>\n",
       "      <th>107817</th>\n",
       "      <td>category/Dresses/p8623092_s3372473_v3.jpg</td>\n",
       "      <td>[0, 0, 1, 0, 0, 0, 0, 0, 0, 0, 0, 0, 0, 1, 0, ...</td>\n",
       "    </tr>\n",
       "    <tr>\n",
       "      <th>48750</th>\n",
       "      <td>category/Shirts_Tops/p8569580_s3259101_v3.jpg</td>\n",
       "      <td>[0, 0, 1, 0, 0, 0, 0, 0, 0, 0, 0, 0, 0, 0, 0, ...</td>\n",
       "    </tr>\n",
       "    <tr>\n",
       "      <th>61018</th>\n",
       "      <td>category/Shirts_Tops/p8607347_s3338577_v3.jpg</td>\n",
       "      <td>[0, 0, 1, 0, 0, 1, 0, 0, 0, 0, 0, 0, 0, 0, 0, ...</td>\n",
       "    </tr>\n",
       "    <tr>\n",
       "      <th>56496</th>\n",
       "      <td>category/Pants/p8523650_s3146327_v3.jpg</td>\n",
       "      <td>[0, 0, 0, 0, 0, 0, 0, 0, 0, 0, 0, 0, 0, 0, 0, ...</td>\n",
       "    </tr>\n",
       "    <tr>\n",
       "      <th>81567</th>\n",
       "      <td>category/Shirts_Tops/p8547705_s3308942_v1.jpg</td>\n",
       "      <td>[0, 0, 0, 0, 0, 0, 0, 0, 0, 0, 0, 1, 0, 0, 0, ...</td>\n",
       "    </tr>\n",
       "    <tr>\n",
       "      <th>61977</th>\n",
       "      <td>category/Jeans/p8655658_s3452882_v3.jpg</td>\n",
       "      <td>[0, 0, 0, 1, 0, 0, 0, 0, 0, 0, 0, 0, 0, 0, 0, ...</td>\n",
       "    </tr>\n",
       "    <tr>\n",
       "      <th>79893</th>\n",
       "      <td>category/Pants/p8282942_s2590117_v3.jpg</td>\n",
       "      <td>[0, 0, 0, 0, 0, 0, 0, 0, 0, 0, 0, 0, 0, 0, 0, ...</td>\n",
       "    </tr>\n",
       "  </tbody>\n",
       "</table>\n",
       "</div>"
      ],
      "text/plain": [
       "                                                 filename  \\\n",
       "1779              category/Pants/p8652936_s3446722_v2.jpg   \n",
       "61400   category/Coats_Outerwear/p8620072_s3365471_v2.jpg   \n",
       "62479   category/Coats_Outerwear/p8326527_s3170110_v2.jpg   \n",
       "107817          category/Dresses/p8623092_s3372473_v3.jpg   \n",
       "48750       category/Shirts_Tops/p8569580_s3259101_v3.jpg   \n",
       "61018       category/Shirts_Tops/p8607347_s3338577_v3.jpg   \n",
       "56496             category/Pants/p8523650_s3146327_v3.jpg   \n",
       "81567       category/Shirts_Tops/p8547705_s3308942_v1.jpg   \n",
       "61977             category/Jeans/p8655658_s3452882_v3.jpg   \n",
       "79893             category/Pants/p8282942_s2590117_v3.jpg   \n",
       "\n",
       "                                               attributes  \n",
       "1779    [0, 0, 0, 0, 0, 0, 0, 0, 0, 0, 0, 0, 0, 0, 0, ...  \n",
       "61400   [0, 0, 0, 0, 0, 0, 0, 0, 0, 0, 0, 1, 0, 0, 0, ...  \n",
       "62479   [0, 0, 0, 0, 0, 0, 0, 0, 0, 0, 0, 0, 0, 0, 0, ...  \n",
       "107817  [0, 0, 1, 0, 0, 0, 0, 0, 0, 0, 0, 0, 0, 1, 0, ...  \n",
       "48750   [0, 0, 1, 0, 0, 0, 0, 0, 0, 0, 0, 0, 0, 0, 0, ...  \n",
       "61018   [0, 0, 1, 0, 0, 1, 0, 0, 0, 0, 0, 0, 0, 0, 0, ...  \n",
       "56496   [0, 0, 0, 0, 0, 0, 0, 0, 0, 0, 0, 0, 0, 0, 0, ...  \n",
       "81567   [0, 0, 0, 0, 0, 0, 0, 0, 0, 0, 0, 1, 0, 0, 0, ...  \n",
       "61977   [0, 0, 0, 1, 0, 0, 0, 0, 0, 0, 0, 0, 0, 0, 0, ...  \n",
       "79893   [0, 0, 0, 0, 0, 0, 0, 0, 0, 0, 0, 0, 0, 0, 0, ...  "
      ]
     },
     "execution_count": 3,
     "metadata": {},
     "output_type": "execute_result"
    }
   ],
   "source": [
    "train_df.sample(10)"
   ]
  },
  {
   "cell_type": "code",
   "execution_count": 4,
   "metadata": {},
   "outputs": [],
   "source": [
    "label = ['BoardShorts',\n",
    "'ButtonUpShirts',\n",
    "'Crew',\n",
    "'Denim',\n",
    "'FloralPrint',\n",
    "'GraphicPrint',\n",
    "'Halter',\n",
    "'Hood',\n",
    "'HorizontalStripes',\n",
    "'Insulated',\n",
    "'Leggings',\n",
    "'LongSleeves',\n",
    "'Mesh',\n",
    "'Plaid',\n",
    "'Polos',\n",
    "'Scoop',\n",
    "'ShortSleeves',\n",
    "'Sleeveless',\n",
    "'SnowPants',\n",
    "'Stripes',\n",
    "'VerticalStripes',\n",
    "'Vests',\n",
    "'Vneck',\n",
    "'Zipper',\n",
    "'halfZip',\n",
    "'quarter3Zip',\n",
    "'quarterZip']"
   ]
  },
  {
   "cell_type": "code",
   "execution_count": 5,
   "metadata": {},
   "outputs": [],
   "source": [
    "IMG_SIZE = 256\n",
    "CROP_SIZE = 224\n",
    "\n",
    "def train_preprocess_image(image):\n",
    "    image = tf.image.decode_jpeg(image, channels=3)\n",
    "    image = tf.image.resize(image, [IMG_SIZE, IMG_SIZE])\n",
    "    image = (image/127.5) - 1\n",
    "    image = tf.image.random_crop(image, [CROP_SIZE, CROP_SIZE, 3])\n",
    "    #image = tf.image.random_flip_up_down(image)\n",
    "    image = tf.image.random_flip_left_right(image)\n",
    "    \n",
    "    #image /= 255.0  # normalize to [0,1] range\n",
    "    \n",
    "\n",
    "    #encoded_png_io = io.BytesIO(encoded_png)\n",
    "    #image = pil.open(encoded_png_io)\n",
    "    #image = np.asarray(image)    \n",
    "\n",
    "    return image\n",
    "\n",
    "def preprocess_image(image):\n",
    "    image = tf.image.decode_jpeg(image, channels=3)\n",
    "    image = tf.image.resize(image, [CROP_SIZE, CROP_SIZE])\n",
    "    #image = tf.image.random_crop(image, [CROP_SIZE, CROP_SIZE, 3])\n",
    "    image = (image/127.5) - 1\n",
    "    #image /= 255.0  # normalize to [0,1] range\n",
    "    \n",
    "\n",
    "    #encoded_png_io = io.BytesIO(encoded_png)\n",
    "    #image = pil.open(encoded_png_io)\n",
    "    #image = np.asarray(image)    \n",
    "\n",
    "    return image"
   ]
  },
  {
   "cell_type": "code",
   "execution_count": 6,
   "metadata": {},
   "outputs": [],
   "source": [
    "def train_load_and_preprocess_image(path):\n",
    "    image = tf.read_file(path)\n",
    "    return train_preprocess_image(image)\n",
    "\n",
    "def load_and_preprocess_image(path):\n",
    "    image = tf.read_file(path)\n",
    "    return preprocess_image(image)"
   ]
  },
  {
   "cell_type": "code",
   "execution_count": 7,
   "metadata": {},
   "outputs": [],
   "source": [
    "import numpy as np\n",
    "train_paths = train_df['filename'].tolist()\n",
    "train_label = np.asarray(train_df['attributes'].tolist())\n",
    "\n",
    "test_paths = test_df['filename'].tolist()\n",
    "test_label = np.asarray(test_df['attributes'].tolist())"
   ]
  },
  {
   "cell_type": "code",
   "execution_count": 8,
   "metadata": {},
   "outputs": [],
   "source": [
    "train_path_ds = tf.data.Dataset.from_tensor_slices(train_paths)\n",
    "test_path_ds = tf.data.Dataset.from_tensor_slices(test_paths)\n",
    "\n",
    "train_image_ds = train_path_ds.map(train_load_and_preprocess_image)\n",
    "test_image_ds = test_path_ds.map(load_and_preprocess_image)"
   ]
  },
  {
   "cell_type": "code",
   "execution_count": 9,
   "metadata": {},
   "outputs": [],
   "source": [
    "train_label_ds = tf.data.Dataset.from_tensor_slices(tf.cast(train_label, tf.int32))\n",
    "test_label_ds = tf.data.Dataset.from_tensor_slices(tf.cast(test_label, tf.int32))"
   ]
  },
  {
   "cell_type": "code",
   "execution_count": 10,
   "metadata": {},
   "outputs": [
    {
     "name": "stdout",
     "output_type": "stream",
     "text": [
      "<DatasetV1Adapter shapes: ((224, 224, 3), (27,)), types: (tf.float32, tf.int32)>\n",
      "<DatasetV1Adapter shapes: ((224, 224, 3), (27,)), types: (tf.float32, tf.int32)>\n"
     ]
    }
   ],
   "source": [
    "train_image_label_ds = tf.data.Dataset.zip((train_image_ds, train_label_ds))\n",
    "print(train_image_label_ds)\n",
    "test_image_label_ds = tf.data.Dataset.zip((test_image_ds, test_label_ds))\n",
    "print(test_image_label_ds)"
   ]
  },
  {
   "cell_type": "code",
   "execution_count": 11,
   "metadata": {},
   "outputs": [
    {
     "data": {
      "text/plain": [
       "<DatasetV1Adapter shapes: ((?, 224, 224, 3), (?, 27)), types: (tf.float32, tf.int32)>"
      ]
     },
     "execution_count": 11,
     "metadata": {},
     "output_type": "execute_result"
    }
   ],
   "source": [
    "BATCH_SIZE = 32\n",
    "AUTOTUNE = tf.data.experimental.AUTOTUNE\n",
    "\n",
    "# Setting a shuffle buffer size as large as the dataset ensures that the data is\n",
    "# completely shuffled.\n",
    "\n",
    "train_image_label_ds = train_image_label_ds.shuffle(buffer_size=512).repeat()\n",
    "train_image_label_ds = train_image_label_ds.batch(BATCH_SIZE).prefetch(AUTOTUNE)\n",
    "train_image_label_ds"
   ]
  },
  {
   "cell_type": "code",
   "execution_count": 12,
   "metadata": {},
   "outputs": [
    {
     "data": {
      "text/plain": [
       "<DatasetV1Adapter shapes: ((?, 224, 224, 3), (?, 27)), types: (tf.float32, tf.int32)>"
      ]
     },
     "execution_count": 12,
     "metadata": {},
     "output_type": "execute_result"
    }
   ],
   "source": [
    "test_image_label_ds = test_image_label_ds.batch(BATCH_SIZE).prefetch(AUTOTUNE)\n",
    "test_image_label_ds"
   ]
  },
  {
   "cell_type": "code",
   "execution_count": 13,
   "metadata": {},
   "outputs": [
    {
     "name": "stdout",
     "output_type": "stream",
     "text": [
      "Image batch shape:  (32, 224, 224, 3)\n",
      "Label batch shape:  (32, 27)\n"
     ]
    }
   ],
   "source": [
    "for image_batch, label_batch in train_image_label_ds:\n",
    "    print(\"Image batch shape: \", image_batch.shape)\n",
    "    print(\"Label batch shape: \", label_batch.shape)\n",
    "    break"
   ]
  },
  {
   "cell_type": "code",
   "execution_count": 14,
   "metadata": {},
   "outputs": [],
   "source": [
    "class MVCMobilenetV2(tf.keras.Model):\n",
    "    \n",
    "    def __init__(self, img_shape, num_attributes):\n",
    "        super(MVCMobilenetV2, self).__init__()\n",
    "        self.img_shape = img_shape\n",
    "        self.num_attributes = num_attributes\n",
    "        \n",
    "        self.base_model = tf.keras.applications.MobileNetV2(input_shape=self.img_shape, include_top=False, weights='imagenet')\n",
    "        "
   ]
  },
  {
   "cell_type": "code",
   "execution_count": 14,
   "metadata": {},
   "outputs": [],
   "source": [
    "IMG_SHAPE = (CROP_SIZE, CROP_SIZE, 3)\n",
    "\n",
    "\n",
    "#base_model = tf.keras.applications.inception_resnet_v2.InceptionResNetV2(input_shape=IMG_SHAPE,\n",
    "base_model = tf.keras.applications.MobileNetV2(input_shape=IMG_SHAPE,\n",
    "#base_model = tf.keras.applications.nasnet.NASNetMobile(input_shape=IMG_SHAPE,\n",
    "#base_model = tf.keras.applications.densenet.DenseNet201(input_shape=IMG_SHAPE,\n",
    "#base_model = tf.keras.applications.nasnet.NASNetLarge(input_shape=IMG_SHAPE,\n",
    "#base_model = tf.keras.applications.resnet50.ResNet50(input_shape=IMG_SHAPE,\n",
    "#base_model = tf.keras.applications.xception.Xception(input_shape=IMG_SHAPE,\n",
    "                                               include_top=False,\n",
    "                                               weights='imagenet')"
   ]
  },
  {
   "cell_type": "code",
   "execution_count": 15,
   "metadata": {},
   "outputs": [],
   "source": [
    "base_model.output_shape\n",
    "base_model.trainable = True"
   ]
  },
  {
   "cell_type": "markdown",
   "metadata": {},
   "source": [
    "### Conv 1x1"
   ]
  },
  {
   "cell_type": "code",
   "execution_count": 16,
   "metadata": {},
   "outputs": [
    {
     "data": {
      "text/plain": [
       "27"
      ]
     },
     "execution_count": 16,
     "metadata": {},
     "output_type": "execute_result"
    }
   ],
   "source": [
    "len(label)"
   ]
  },
  {
   "cell_type": "code",
   "execution_count": 17,
   "metadata": {},
   "outputs": [],
   "source": [
    "conv1_layer = tf.keras.layers.Conv2D(512, kernel_size=1)\n",
    "conv2_layer = tf.keras.layers.Conv2D(27, kernel_size=1)\n",
    "avgpool_layer = tf.keras.layers.GlobalAveragePooling2D()\n",
    "flatten_layer = tf.keras.layers.Flatten()"
   ]
  },
  {
   "cell_type": "code",
   "execution_count": 18,
   "metadata": {},
   "outputs": [],
   "source": [
    "model = tf.keras.Sequential([\n",
    "    base_model,\n",
    "    conv1_layer,\n",
    "    conv2_layer,    \n",
    "    avgpool_layer,\n",
    "    flatten_layer\n",
    "])"
   ]
  },
  {
   "cell_type": "code",
   "execution_count": 19,
   "metadata": {},
   "outputs": [
    {
     "data": {
      "text/plain": [
       "<tf.Tensor 'flatten/Identity:0' shape=(?, 27) dtype=float32>"
      ]
     },
     "execution_count": 19,
     "metadata": {},
     "output_type": "execute_result"
    }
   ],
   "source": [
    "model.output"
   ]
  },
  {
   "cell_type": "code",
   "execution_count": 20,
   "metadata": {},
   "outputs": [
    {
     "name": "stdout",
     "output_type": "stream",
     "text": [
      "Model: \"sequential\"\n",
      "_________________________________________________________________\n",
      "Layer (type)                 Output Shape              Param #   \n",
      "=================================================================\n",
      "mobilenetv2_1.00_224 (Model) (None, 7, 7, 1280)        2257984   \n",
      "_________________________________________________________________\n",
      "conv2d (Conv2D)              (None, 7, 7, 512)         655872    \n",
      "_________________________________________________________________\n",
      "conv2d_1 (Conv2D)            (None, 7, 7, 27)          13851     \n",
      "_________________________________________________________________\n",
      "global_average_pooling2d (Gl (None, 27)                0         \n",
      "_________________________________________________________________\n",
      "flatten (Flatten)            (None, 27)                0         \n",
      "=================================================================\n",
      "Total params: 2,927,707\n",
      "Trainable params: 2,893,595\n",
      "Non-trainable params: 34,112\n",
      "_________________________________________________________________\n"
     ]
    }
   ],
   "source": [
    "model.summary()"
   ]
  },
  {
   "cell_type": "code",
   "execution_count": 21,
   "metadata": {},
   "outputs": [
    {
     "data": {
      "text/plain": [
       "27348"
      ]
     },
     "execution_count": 21,
     "metadata": {},
     "output_type": "execute_result"
    }
   ],
   "source": [
    "nb_train_samples = len(train_paths) \n",
    "nb_val_samples = len(test_paths) \n",
    "\n",
    "steps_per_epoch = nb_train_samples // BATCH_SIZE\n",
    "validation_steps=nb_val_samples//BATCH_SIZE\n",
    "nb_val_samples"
   ]
  },
  {
   "cell_type": "code",
   "execution_count": 22,
   "metadata": {},
   "outputs": [],
   "source": [
    "def weighted_loss(target, prediction):\n",
    "    batch = tf.shape(target)[0]\n",
    "    \n",
    "    #print(batch)\n",
    "    target = tf.cast(target, tf.float32)\n",
    "    weight = 1-tf.divide(tf.reduce_sum(target,0, keepdims=True),tf.cast(batch, tf.float32))\n",
    "    #print(weight)\n",
    "    #print(loss)\n",
    "    return tf.nn.weighted_cross_entropy_with_logits(labels=target, logits=prediction, pos_weight=weight)\n",
    "    \n",
    "    #return tf.nn.weighted_cross_entropy_with_logits(targets=tf.cast(y, tf.float32), logits=y_, pos_weight=tf.cast(weight, tf.float32))"
   ]
  },
  {
   "cell_type": "markdown",
   "metadata": {},
   "source": [
    "when val is very slow refer this [page](https://github.com/keras-team/keras/issues/6101)"
   ]
  },
  {
   "cell_type": "code",
   "execution_count": 23,
   "metadata": {},
   "outputs": [],
   "source": [
    "#parallel_model = multi_gpu_model(model, gpus=2)\n",
    "callbacks = [\n",
    "    # Interrupt training if `val_loss` stops improving for over 2 epochs\n",
    "    tf.keras.callbacks.EarlyStopping(patience=3, monitor='val_loss'),\n",
    "    tf.keras.callbacks.ModelCheckpoint(filepath='./mobilev2_conv2/full_aug.top.h5', save_best_only=True),\n",
    "    # Write TensorBoard logs to `./logs` directory\n",
    "    tf.keras.callbacks.TensorBoard(log_dir='./mobilev2_conv2/logs')\n",
    "]\n",
    "\n",
    "#model.compile(loss='binary_crossentropy', optimizer='adam', metrics=['accuracy'])\n",
    "model.compile(loss=weighted_loss, optimizer='adam', metrics=[tf.keras.metrics.BinaryAccuracy()])\n",
    "#model.load_weights('./mobilev2_2019072004/weights')\n"
   ]
  },
  {
   "cell_type": "code",
   "execution_count": 24,
   "metadata": {},
   "outputs": [
    {
     "name": "stdout",
     "output_type": "stream",
     "text": [
      "Epoch 1/20\n",
      "3418/3418 [==============================] - 2070s 606ms/step - loss: 0.0751 - binary_accuracy: 0.9698 - val_loss: 0.1801 - val_binary_accuracy: 0.9426\n",
      "Epoch 2/20\n",
      "3418/3418 [==============================] - 2017s 590ms/step - loss: 0.0622 - binary_accuracy: 0.9750 - val_loss: 0.0806 - val_binary_accuracy: 0.9691\n",
      "Epoch 3/20\n",
      "3418/3418 [==============================] - 2028s 593ms/step - loss: 0.0577 - binary_accuracy: 0.9767 - val_loss: 0.0717 - val_binary_accuracy: 0.9708\n",
      "Epoch 4/20\n",
      "3418/3418 [==============================] - 2020s 591ms/step - loss: 0.0545 - binary_accuracy: 0.9779 - val_loss: 0.0629 - val_binary_accuracy: 0.9750\n",
      "Epoch 5/20\n",
      "3418/3418 [==============================] - 2020s 591ms/step - loss: 0.0520 - binary_accuracy: 0.9788 - val_loss: 0.0652 - val_binary_accuracy: 0.9723\n",
      "Epoch 6/20\n",
      "3418/3418 [==============================] - 2029s 594ms/step - loss: 0.0499 - binary_accuracy: 0.9796 - val_loss: 0.0722 - val_binary_accuracy: 0.9726\n",
      "Epoch 7/20\n",
      "3418/3418 [==============================] - 2020s 591ms/step - loss: 0.0481 - binary_accuracy: 0.9802 - val_loss: 0.0549 - val_binary_accuracy: 0.9776\n",
      "Epoch 8/20\n",
      "3418/3418 [==============================] - 2018s 590ms/step - loss: 0.0464 - binary_accuracy: 0.9809 - val_loss: 0.0616 - val_binary_accuracy: 0.9740\n",
      "Epoch 9/20\n",
      "3418/3418 [==============================] - 2028s 593ms/step - loss: 0.0448 - binary_accuracy: 0.9814 - val_loss: 0.0589 - val_binary_accuracy: 0.9761\n",
      "Epoch 10/20\n",
      "3418/3418 [==============================] - 2019s 591ms/step - loss: 0.0434 - binary_accuracy: 0.9820 - val_loss: 0.0600 - val_binary_accuracy: 0.9759\n"
     ]
    }
   ],
   "source": [
    "#with tf.device('/cpu:0'): \n",
    "history = model.fit(train_image_label_ds, steps_per_epoch=steps_per_epoch, epochs=20, validation_data=test_image_label_ds, validation_steps=validation_steps, \\\n",
    "          workers=4, use_multiprocessing=True , callbacks=callbacks)"
   ]
  },
  {
   "cell_type": "code",
   "execution_count": 25,
   "metadata": {},
   "outputs": [],
   "source": [
    "model.save('./mobilev2_conv2/full_aug.h5')"
   ]
  },
  {
   "cell_type": "code",
   "execution_count": 26,
   "metadata": {},
   "outputs": [],
   "source": [
    "model.save_weights('./mobilev2_conv2/full_aug.weights')"
   ]
  },
  {
   "cell_type": "code",
   "execution_count": 27,
   "metadata": {},
   "outputs": [
    {
     "data": {
      "text/plain": [
       "17    Sleeveless\n",
       "22         Vneck\n",
       "dtype: object"
      ]
     },
     "execution_count": 27,
     "metadata": {},
     "output_type": "execute_result"
    }
   ],
   "source": [
    "path='./rename/p8604244_s3328909_v0.jpg'\n",
    "image = tf.read_file(path)\n",
    "image = tf.image.decode_jpeg(image, channels=3)\n",
    "image = tf.image.resize(image, [224,224])\n",
    "image = image/127.5 - 1 # normalize to [0,1] range\n",
    "pred = model.predict(image[np.newaxis, ...])\n",
    "indexes = np.where(pred[0,:]> 0.5)\n",
    "attr=pd.Series(label)\n",
    "attr.iloc[indexes]"
   ]
  },
  {
   "cell_type": "code",
   "execution_count": 28,
   "metadata": {},
   "outputs": [
    {
     "data": {
      "image/jpeg": "[encoded data removed]",
      "text/plain": [
       "<IPython.core.display.Image object>"
      ]
     },
     "execution_count": 28,
     "metadata": {},
     "output_type": "execute_result"
    }
   ],
   "source": [
    "from IPython.display import Image\n",
    "Image(path)"
   ]
  },
  {
   "cell_type": "code",
   "execution_count": 29,
   "metadata": {},
   "outputs": [
    {
     "data": {
      "text/plain": [
       "Text(0.5, 0, 'epoch')"
      ]
     },
     "execution_count": 29,
     "metadata": {},
     "output_type": "execute_result"
    }
   ],
   "source": [
    "import matplotlib.pyplot as plt\n",
    "\n",
    "\n",
    "acc = history.history['binary_accuracy']\n",
    "val_acc = history.history['val_binary_accuracy']\n",
    "\n",
    "loss = history.history['loss']\n",
    "val_loss = history.history['val_loss']\n",
    "\n",
    "plt.figure(figsize=(8, 8))\n",
    "plt.subplot(2, 1, 1)\n",
    "plt.plot(acc, label='Training Accuracy')\n",
    "plt.plot(val_acc, label='Validation Accuracy')\n",
    "plt.legend(loc='lower right')\n",
    "plt.ylabel('Accuracy')\n",
    "plt.ylim([min(plt.ylim()),1])\n",
    "plt.title('Training and Validation Accuracy')\n",
    "\n",
    "plt.subplot(2, 1, 2)\n",
    "plt.plot(loss, label='Training Loss')\n",
    "plt.plot(val_loss, label='Validation Loss')\n",
    "plt.legend(loc='upper right')\n",
    "plt.ylabel('Cross Entropy')\n",
    "plt.ylim([0,1.0])\n",
    "plt.title('Training and Validation Loss')\n",
    "plt.xlabel('epoch')"
   ]
  },
  {
   "cell_type": "code",
   "execution_count": null,
   "metadata": {},
   "outputs": [],
   "source": []
  },
  {
   "cell_type": "code",
   "execution_count": null,
   "metadata": {},
   "outputs": [],
   "source": []
  }
 ],
 "metadata": {
  "kernelspec": {
   "display_name": "Python 3",
   "language": "python",
   "name": "python3"
  },
  "language_info": {
   "codemirror_mode": {
    "name": "ipython",
    "version": 3
   },
   "file_extension": ".py",
   "mimetype": "text/x-python",
   "name": "python",
   "nbconvert_exporter": "python",
   "pygments_lexer": "ipython3",
   "version": "3.6.8"
  }
 },
 "nbformat": 4,
 "nbformat_minor": 2
}
